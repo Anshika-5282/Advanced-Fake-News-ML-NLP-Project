{
 "cells": [
  {
   "cell_type": "markdown",
   "id": "c6c007d9-dd14-40f1-a6cc-a9f32ceeea27",
   "metadata": {},
   "source": [
    "# <CENTER style=\"background-color:silver\">FAKE NEWS DETECTION ML-NLP PROJECT </CENTER>"
   ]
  },
  {
   "attachments": {},
   "cell_type": "markdown",
   "id": "7180f033-6015-40c6-8c8d-ec462f7764d0",
   "metadata": {},
   "source": [
    "# <center><img src = \"https://engineering.ucdavis.edu/sites/g/files/dgvnsk2151/files/styles/sf_landscape_16x9/public/media/images/413f7eda-5991-660f-a0e9-36d5a7ee2754.png\"  width='700'></center>"
   ]
  },
  {
   "cell_type": "markdown",
   "id": "0e1adcf3-4fc2-48f0-b9ea-1fb4ea69394b",
   "metadata": {},
   "source": [
    "# ROADMAP :\n",
    "- Important Libraries/ Modules\n",
    "- Data Load\n",
    "- Data Preprocessing:\n",
    "  - Feature Engineering\n",
    "  - EDA\n",
    "      - Outliers Detection/Remove\n",
    "      - ML + DL:- Stopwords,Stem\n",
    "- Model Creation\n",
    "- Multiple Model Creation\n",
    "- Compare Multiple Model\n",
    "- Best Model\n",
    "- Model Save\n",
    "- Predict test\n",
    "- Website Template\n",
    "- Real + Fake\n",
    "-  Github"
   ]
  },
  {
   "cell_type": "markdown",
   "id": "7ca9159e-94cb-4d79-a201-722ffa13fd14",
   "metadata": {},
   "source": [
    "# PROJECT OBJECTIVE :"
   ]
  },
  {
   "cell_type": "markdown",
   "id": "e5e6abd4-6e0e-4f60-9f3d-eb128638da53",
   "metadata": {},
   "source": [
    "This Project aims to provide you a better understanding between fake news vs real news in order to keep ourselves safe from misleading and false information constantly forwarding in the world.\n",
    "It helps to find the real news out of the fake news.\n",
    "Here '0' means 'FAKE News' and '1' means 'REAL News'."
   ]
  },
  {
   "cell_type": "markdown",
   "id": "b5f17322-3ad4-4454-9ea5-fd5e813675d7",
   "metadata": {},
   "source": [
    "# PROJECT OVERVIEW/OUTLINES :"
   ]
  },
  {
   "cell_type": "markdown",
   "id": "5198e8b0-f319-41e9-8f60-3290ce83fcd0",
   "metadata": {},
   "source": [
    "- Importing necessary libraries\n",
    "- Dataset loading\n",
    "- Exploratory Data Analysis:\n",
    "   * treating missing values\n",
    "   * duplicate values checking\n",
    "   * info checking\n",
    "   * visualization of count of fake news vs real news\n",
    "- Text preprocessing:\n",
    "   * removing special characters, white spaces\n",
    "   * stopwords removal, porter stemming\n",
    "- Word cloud formation\n",
    "- Creation and transformation of variables into vectors through Tfidf vectorizer\n",
    "- building multiple models to check accuracy score, type1 error, type2 error, confusion matrix and classification report\n",
    "- Machine learning models:\n",
    "   * linear regression\n",
    "   * decision tree classifier\n",
    "   * random forest classifier\n",
    "   * support vector machine\n",
    "   * k-nearest neighbor\n",
    "   * gradient boosting classifier\n",
    "   * adaboost\n",
    "   * xgboost classifier\n",
    "- Saving the best model\n",
    "- deployment of the website\n",
    "     "
   ]
  },
  {
   "cell_type": "markdown",
   "id": "7f530339-a1e2-4ed7-a712-e077930f8c24",
   "metadata": {},
   "source": [
    "# IMPORTING NECESSARY LIBRARIES :"
   ]
  },
  {
   "cell_type": "code",
   "execution_count": 9,
   "id": "0db76060-811d-4daa-a5c0-0dab6f5e3ea0",
   "metadata": {},
   "outputs": [
    {
     "name": "stderr",
     "output_type": "stream",
     "text": [
      "[nltk_data] Downloading package stopwords to\n",
      "[nltk_data]     C:\\Users\\pc\\AppData\\Roaming\\nltk_data...\n",
      "[nltk_data]   Package stopwords is already up-to-date!\n"
     ]
    },
    {
     "name": "stdout",
     "output_type": "stream",
     "text": [
      "all libraries imported succesfully !!\n"
     ]
    }
   ],
   "source": [
    "import numpy as np \n",
    "import pandas as pd \n",
    "import re ,os\n",
    "import nltk\n",
    "import matplotlib.pyplot as plt\n",
    "import seaborn as sns\n",
    "from nltk.corpus import stopwords\n",
    "from nltk.stem.porter import PorterStemmer\n",
    "nltk.download('stopwords')\n",
    "from sklearn.feature_extraction.text import TfidfVectorizer\n",
    "from sklearn.model_selection import train_test_split\n",
    "from sklearn.linear_model import LogisticRegression\n",
    "from sklearn.ensemble import RandomForestClassifier\n",
    "from sklearn.tree import DecisionTreeClassifier\n",
    "from sklearn.svm import SVC\n",
    "from sklearn.neighbors import KNeighborsClassifier\n",
    "from sklearn.ensemble import GradientBoostingClassifier\n",
    "from sklearn.ensemble import AdaBoostClassifier\n",
    "import time\n",
    "from sklearn.metrics import confusion_matrix, classification_report\n",
    "print ('all libraries imported succesfully !!')\n"
   ]
  },
  {
   "cell_type": "code",
   "execution_count": 10,
   "id": "2dc47834-395f-4e59-9b9d-a16d05ebe290",
   "metadata": {},
   "outputs": [],
   "source": [
    "# pip install plyer"
   ]
  },
  {
   "cell_type": "code",
   "execution_count": 11,
   "id": "4b442775-a3a4-4a3a-be95-6312d07e243b",
   "metadata": {},
   "outputs": [],
   "source": [
    "# pip install xgboost\n",
    "\n",
    "# import xgboost as xgb"
   ]
  },
  {
   "cell_type": "code",
   "execution_count": 12,
   "id": "9dd86acf-3115-40e4-9700-714d4c0f64fd",
   "metadata": {},
   "outputs": [],
   "source": [
    "# pip install wordcloud\n",
    "\n",
    "# from wordcloud import WordCloud"
   ]
  },
  {
   "cell_type": "code",
   "execution_count": 13,
   "id": "5cf478ed-219f-4b7f-ae36-65e8c3a9bffd",
   "metadata": {},
   "outputs": [],
   "source": [
    "# import time"
   ]
  },
  {
   "cell_type": "code",
   "execution_count": 14,
   "id": "645e4a9a-257a-4364-ae82-583cb6d61007",
   "metadata": {},
   "outputs": [],
   "source": [
    "from plyer import notification\n",
    "\n",
    "# if __name__==\"__main__\":\n",
    "# \t\tnotification.notify(\n",
    "# \t\t\ttitle = \"RUNNING CELL\",\n",
    "# \t\t\tmessage=\" CELL EXECUTED SUCCESSFULLY!!\" ,\t\n",
    "# \t\t\ttimeout=3)"
   ]
  },
  {
   "cell_type": "markdown",
   "id": "2b221486-701a-4251-850a-ac3480d72396",
   "metadata": {},
   "source": [
    "# LOADING DATASET FILE :"
   ]
  },
  {
   "cell_type": "code",
   "execution_count": 16,
   "id": "42f0f63e-021e-4c74-beb2-0def313c9096",
   "metadata": {},
   "outputs": [
    {
     "name": "stdout",
     "output_type": "stream",
     "text": [
      "data loaded successfully !!\n"
     ]
    }
   ],
   "source": [
    "df = pd.read_csv('C:/Users/pc/Desktop/KAGGLE DATA/Fake_Data.csv')\n",
    "print ('data loaded successfully !!')"
   ]
  },
  {
   "cell_type": "markdown",
   "id": "ee79bb70-81d0-416a-a73d-918e2a1505a7",
   "metadata": {},
   "source": [
    "# EXPLORATORY DATA ANALYSIS :"
   ]
  },
  {
   "cell_type": "markdown",
   "id": "1798f747-39ac-4f03-b9cb-c4f0bcfc4363",
   "metadata": {},
   "source": [
    "### SHAPE OF DATASET :"
   ]
  },
  {
   "cell_type": "code",
   "execution_count": 19,
   "id": "c7a5e6fb-1245-4830-ba31-52139138127b",
   "metadata": {},
   "outputs": [
    {
     "data": {
      "text/plain": [
       "(72134, 4)"
      ]
     },
     "execution_count": 19,
     "metadata": {},
     "output_type": "execute_result"
    }
   ],
   "source": [
    "df.shape"
   ]
  },
  {
   "cell_type": "markdown",
   "id": "27628125-ac87-43a3-904a-eecaa5eb2755",
   "metadata": {},
   "source": [
    "### TOP ROWS :"
   ]
  },
  {
   "cell_type": "code",
   "execution_count": 21,
   "id": "b21034fe-42a4-4f9e-b2fc-f9eba67d0633",
   "metadata": {},
   "outputs": [
    {
     "data": {
      "text/html": [
       "<div>\n",
       "<style scoped>\n",
       "    .dataframe tbody tr th:only-of-type {\n",
       "        vertical-align: middle;\n",
       "    }\n",
       "\n",
       "    .dataframe tbody tr th {\n",
       "        vertical-align: top;\n",
       "    }\n",
       "\n",
       "    .dataframe thead th {\n",
       "        text-align: right;\n",
       "    }\n",
       "</style>\n",
       "<table border=\"1\" class=\"dataframe\">\n",
       "  <thead>\n",
       "    <tr style=\"text-align: right;\">\n",
       "      <th></th>\n",
       "      <th>Unnamed: 0</th>\n",
       "      <th>title</th>\n",
       "      <th>text</th>\n",
       "      <th>label</th>\n",
       "    </tr>\n",
       "  </thead>\n",
       "  <tbody>\n",
       "    <tr>\n",
       "      <th>0</th>\n",
       "      <td>0</td>\n",
       "      <td>LAW ENFORCEMENT ON HIGH ALERT Following Threat...</td>\n",
       "      <td>No comment is expected from Barack Obama Membe...</td>\n",
       "      <td>1</td>\n",
       "    </tr>\n",
       "    <tr>\n",
       "      <th>1</th>\n",
       "      <td>1</td>\n",
       "      <td>NaN</td>\n",
       "      <td>Did they post their votes for Hillary already?</td>\n",
       "      <td>1</td>\n",
       "    </tr>\n",
       "    <tr>\n",
       "      <th>2</th>\n",
       "      <td>2</td>\n",
       "      <td>UNBELIEVABLE! OBAMA’S ATTORNEY GENERAL SAYS MO...</td>\n",
       "      <td>Now, most of the demonstrators gathered last ...</td>\n",
       "      <td>1</td>\n",
       "    </tr>\n",
       "    <tr>\n",
       "      <th>3</th>\n",
       "      <td>3</td>\n",
       "      <td>Bobby Jindal, raised Hindu, uses story of Chri...</td>\n",
       "      <td>A dozen politically active pastors came here f...</td>\n",
       "      <td>0</td>\n",
       "    </tr>\n",
       "    <tr>\n",
       "      <th>4</th>\n",
       "      <td>4</td>\n",
       "      <td>SATAN 2: Russia unvelis an image of its terrif...</td>\n",
       "      <td>The RS-28 Sarmat missile, dubbed Satan 2, will...</td>\n",
       "      <td>1</td>\n",
       "    </tr>\n",
       "  </tbody>\n",
       "</table>\n",
       "</div>"
      ],
      "text/plain": [
       "   Unnamed: 0                                              title  \\\n",
       "0           0  LAW ENFORCEMENT ON HIGH ALERT Following Threat...   \n",
       "1           1                                                NaN   \n",
       "2           2  UNBELIEVABLE! OBAMA’S ATTORNEY GENERAL SAYS MO...   \n",
       "3           3  Bobby Jindal, raised Hindu, uses story of Chri...   \n",
       "4           4  SATAN 2: Russia unvelis an image of its terrif...   \n",
       "\n",
       "                                                text  label  \n",
       "0  No comment is expected from Barack Obama Membe...      1  \n",
       "1     Did they post their votes for Hillary already?      1  \n",
       "2   Now, most of the demonstrators gathered last ...      1  \n",
       "3  A dozen politically active pastors came here f...      0  \n",
       "4  The RS-28 Sarmat missile, dubbed Satan 2, will...      1  "
      ]
     },
     "execution_count": 21,
     "metadata": {},
     "output_type": "execute_result"
    }
   ],
   "source": [
    "df.head()"
   ]
  },
  {
   "cell_type": "markdown",
   "id": "2168a796-6ade-405a-90fd-517919ade038",
   "metadata": {},
   "source": [
    "### BOTTOM ROWS :"
   ]
  },
  {
   "cell_type": "code",
   "execution_count": 23,
   "id": "015b3481-0f08-4c20-b3e7-d27473a99b0e",
   "metadata": {},
   "outputs": [
    {
     "data": {
      "text/html": [
       "<div>\n",
       "<style scoped>\n",
       "    .dataframe tbody tr th:only-of-type {\n",
       "        vertical-align: middle;\n",
       "    }\n",
       "\n",
       "    .dataframe tbody tr th {\n",
       "        vertical-align: top;\n",
       "    }\n",
       "\n",
       "    .dataframe thead th {\n",
       "        text-align: right;\n",
       "    }\n",
       "</style>\n",
       "<table border=\"1\" class=\"dataframe\">\n",
       "  <thead>\n",
       "    <tr style=\"text-align: right;\">\n",
       "      <th></th>\n",
       "      <th>Unnamed: 0</th>\n",
       "      <th>title</th>\n",
       "      <th>text</th>\n",
       "      <th>label</th>\n",
       "    </tr>\n",
       "  </thead>\n",
       "  <tbody>\n",
       "    <tr>\n",
       "      <th>72129</th>\n",
       "      <td>72129</td>\n",
       "      <td>Russians steal research on Trump in hack of U....</td>\n",
       "      <td>WASHINGTON (Reuters) - Hackers believed to be ...</td>\n",
       "      <td>0</td>\n",
       "    </tr>\n",
       "    <tr>\n",
       "      <th>72130</th>\n",
       "      <td>72130</td>\n",
       "      <td>WATCH: Giuliani Demands That Democrats Apolog...</td>\n",
       "      <td>You know, because in fantasyland Republicans n...</td>\n",
       "      <td>1</td>\n",
       "    </tr>\n",
       "    <tr>\n",
       "      <th>72131</th>\n",
       "      <td>72131</td>\n",
       "      <td>Migrants Refuse To Leave Train At Refugee Camp...</td>\n",
       "      <td>Migrants Refuse To Leave Train At Refugee Camp...</td>\n",
       "      <td>0</td>\n",
       "    </tr>\n",
       "    <tr>\n",
       "      <th>72132</th>\n",
       "      <td>72132</td>\n",
       "      <td>Trump tussle gives unpopular Mexican leader mu...</td>\n",
       "      <td>MEXICO CITY (Reuters) - Donald Trump’s combati...</td>\n",
       "      <td>0</td>\n",
       "    </tr>\n",
       "    <tr>\n",
       "      <th>72133</th>\n",
       "      <td>72133</td>\n",
       "      <td>Goldman Sachs Endorses Hillary Clinton For Pre...</td>\n",
       "      <td>Goldman Sachs Endorses Hillary Clinton For Pre...</td>\n",
       "      <td>1</td>\n",
       "    </tr>\n",
       "  </tbody>\n",
       "</table>\n",
       "</div>"
      ],
      "text/plain": [
       "       Unnamed: 0                                              title  \\\n",
       "72129       72129  Russians steal research on Trump in hack of U....   \n",
       "72130       72130   WATCH: Giuliani Demands That Democrats Apolog...   \n",
       "72131       72131  Migrants Refuse To Leave Train At Refugee Camp...   \n",
       "72132       72132  Trump tussle gives unpopular Mexican leader mu...   \n",
       "72133       72133  Goldman Sachs Endorses Hillary Clinton For Pre...   \n",
       "\n",
       "                                                    text  label  \n",
       "72129  WASHINGTON (Reuters) - Hackers believed to be ...      0  \n",
       "72130  You know, because in fantasyland Republicans n...      1  \n",
       "72131  Migrants Refuse To Leave Train At Refugee Camp...      0  \n",
       "72132  MEXICO CITY (Reuters) - Donald Trump’s combati...      0  \n",
       "72133  Goldman Sachs Endorses Hillary Clinton For Pre...      1  "
      ]
     },
     "execution_count": 23,
     "metadata": {},
     "output_type": "execute_result"
    }
   ],
   "source": [
    "df.tail()"
   ]
  },
  {
   "cell_type": "markdown",
   "id": "f1433c11-92d8-41a9-8f34-df6c750c0212",
   "metadata": {},
   "source": [
    "### INFO. OF DATA :"
   ]
  },
  {
   "cell_type": "code",
   "execution_count": 25,
   "id": "90a9f7d4-183d-44bd-99ad-8168c76b404d",
   "metadata": {},
   "outputs": [
    {
     "name": "stdout",
     "output_type": "stream",
     "text": [
      "<class 'pandas.core.frame.DataFrame'>\n",
      "RangeIndex: 72134 entries, 0 to 72133\n",
      "Data columns (total 4 columns):\n",
      " #   Column      Non-Null Count  Dtype \n",
      "---  ------      --------------  ----- \n",
      " 0   Unnamed: 0  72134 non-null  int64 \n",
      " 1   title       71576 non-null  object\n",
      " 2   text        72095 non-null  object\n",
      " 3   label       72134 non-null  int64 \n",
      "dtypes: int64(2), object(2)\n",
      "memory usage: 2.2+ MB\n"
     ]
    }
   ],
   "source": [
    "df.info()"
   ]
  },
  {
   "cell_type": "markdown",
   "id": "5154e51f-98f6-47a3-ad59-29fd103953b6",
   "metadata": {},
   "source": [
    "### NULL VALUES CHECKING :"
   ]
  },
  {
   "cell_type": "code",
   "execution_count": 27,
   "id": "6ade3d4d-c6c0-43fe-a190-b896f27a6b6a",
   "metadata": {},
   "outputs": [
    {
     "data": {
      "text/plain": [
       "Unnamed: 0      0\n",
       "title         558\n",
       "text           39\n",
       "label           0\n",
       "dtype: int64"
      ]
     },
     "execution_count": 27,
     "metadata": {},
     "output_type": "execute_result"
    }
   ],
   "source": [
    "df.isnull().sum()"
   ]
  },
  {
   "cell_type": "markdown",
   "id": "7afba3f7-3755-44c5-9cd6-497581709ef6",
   "metadata": {},
   "source": [
    "### DROPPING UNNECESSARY COLUMN :"
   ]
  },
  {
   "cell_type": "code",
   "execution_count": 29,
   "id": "8edd2b08-65e6-4480-ae3a-7870eb2b9bc0",
   "metadata": {},
   "outputs": [
    {
     "name": "stdout",
     "output_type": "stream",
     "text": [
      "'Unnamed: 0' column is removed \n"
     ]
    }
   ],
   "source": [
    "df = df.drop('Unnamed: 0',axis=1)      # DROPPING UNNECESSARY COLUMN\n",
    "print(\"'Unnamed: 0' column is removed \")"
   ]
  },
  {
   "cell_type": "markdown",
   "id": "844c78f4-d6ee-4dd3-b000-de2f8399a9f9",
   "metadata": {},
   "source": [
    "### DROPPING NULL ROWS :"
   ]
  },
  {
   "cell_type": "code",
   "execution_count": 31,
   "id": "29069338-2014-4066-bed3-fdd07fd06d80",
   "metadata": {},
   "outputs": [
    {
     "name": "stdout",
     "output_type": "stream",
     "text": [
      "missing values removed all over the data !!\n"
     ]
    }
   ],
   "source": [
    "df=df.dropna()                 # DROPPING MISSING VALUES\n",
    "print ('missing values removed all over the data !!')"
   ]
  },
  {
   "cell_type": "code",
   "execution_count": 32,
   "id": "ea4b1a36-90ba-4062-920a-9bfb82a55b6a",
   "metadata": {},
   "outputs": [
    {
     "data": {
      "text/plain": [
       "title    0\n",
       "text     0\n",
       "label    0\n",
       "dtype: int64"
      ]
     },
     "execution_count": 32,
     "metadata": {},
     "output_type": "execute_result"
    }
   ],
   "source": [
    "df.isnull().sum()"
   ]
  },
  {
   "cell_type": "code",
   "execution_count": 33,
   "id": "4e030a60-b041-47e1-943d-a65d118d3843",
   "metadata": {},
   "outputs": [
    {
     "data": {
      "text/plain": [
       "(71537, 3)"
      ]
     },
     "execution_count": 33,
     "metadata": {},
     "output_type": "execute_result"
    }
   ],
   "source": [
    "df.shape"
   ]
  },
  {
   "cell_type": "code",
   "execution_count": 34,
   "id": "93bc2c9d-eaed-4e89-9f1c-d1a8eb885de8",
   "metadata": {},
   "outputs": [
    {
     "name": "stdout",
     "output_type": "stream",
     "text": [
      "<class 'pandas.core.frame.DataFrame'>\n",
      "Index: 71537 entries, 0 to 72133\n",
      "Data columns (total 3 columns):\n",
      " #   Column  Non-Null Count  Dtype \n",
      "---  ------  --------------  ----- \n",
      " 0   title   71537 non-null  object\n",
      " 1   text    71537 non-null  object\n",
      " 2   label   71537 non-null  int64 \n",
      "dtypes: int64(1), object(2)\n",
      "memory usage: 2.2+ MB\n"
     ]
    }
   ],
   "source": [
    "df.info()"
   ]
  },
  {
   "cell_type": "code",
   "execution_count": 35,
   "id": "6c3780fb-56bd-4835-a313-15a1fd7d45d9",
   "metadata": {},
   "outputs": [
    {
     "data": {
      "text/plain": [
       "'LAW ENFORCEMENT ON HIGH ALERT Following Threats Against Cops And Whites On 9-11By #BlackLivesMatter And #FYF911 Terrorists [VIDEO]'"
      ]
     },
     "execution_count": 35,
     "metadata": {},
     "output_type": "execute_result"
    }
   ],
   "source": [
    "# what is title\n",
    "df.iloc[0,0]\n",
    "\n",
    "# news title"
   ]
  },
  {
   "cell_type": "code",
   "execution_count": 36,
   "id": "5ad0863e-ae70-474c-a7e8-a4607daf1d18",
   "metadata": {},
   "outputs": [
    {
     "data": {
      "text/plain": [
       "'No comment is expected from Barack Obama Members of the #FYF911 or #FukYoFlag and #BlackLivesMatter movements called for the lynching and hanging of white people and cops. They encouraged others on a radio show Tuesday night to  turn the tide  and kill white people and cops to send a message about t'"
      ]
     },
     "execution_count": 36,
     "metadata": {},
     "output_type": "execute_result"
    }
   ],
   "source": [
    "# what is text\n",
    "df.iloc[0,1][0:300]\n",
    "\n",
    "# detailed news"
   ]
  },
  {
   "cell_type": "code",
   "execution_count": 37,
   "id": "bc85ee98-bb73-4aeb-aa6d-59a424cf34bf",
   "metadata": {},
   "outputs": [
    {
     "data": {
      "text/plain": [
       "1"
      ]
     },
     "execution_count": 37,
     "metadata": {},
     "output_type": "execute_result"
    }
   ],
   "source": [
    "# what is label\n",
    "df.iloc[0,2]\n",
    "\n",
    "# 0-fake news\n",
    "# 1-real news"
   ]
  },
  {
   "cell_type": "markdown",
   "id": "7697275c-c6ac-407a-8a82-3a8673b36eff",
   "metadata": {},
   "source": [
    "### DUPLICATE DATA CHECKING :"
   ]
  },
  {
   "cell_type": "code",
   "execution_count": 39,
   "id": "a12ed604-ad53-476b-98a6-eaccfed53dbc",
   "metadata": {},
   "outputs": [
    {
     "data": {
      "text/plain": [
       "8416"
      ]
     },
     "execution_count": 39,
     "metadata": {},
     "output_type": "execute_result"
    }
   ],
   "source": [
    "df[['title','text']].duplicated().sum()"
   ]
  },
  {
   "cell_type": "code",
   "execution_count": 40,
   "id": "efd57a08-541b-4b91-9f1c-14e9ef055bf4",
   "metadata": {},
   "outputs": [
    {
     "data": {
      "text/plain": [
       "False    63121\n",
       "True      8416\n",
       "Name: count, dtype: int64"
      ]
     },
     "execution_count": 40,
     "metadata": {},
     "output_type": "execute_result"
    }
   ],
   "source": [
    "df[['title','text']].duplicated().value_counts()"
   ]
  },
  {
   "cell_type": "code",
   "execution_count": 41,
   "id": "12bd10e6-f2a2-42da-bd10-b5a0ab101633",
   "metadata": {},
   "outputs": [
    {
     "data": {
      "text/plain": [
       "title\n",
       "False    62308\n",
       "True      9229\n",
       "Name: count, dtype: int64"
      ]
     },
     "execution_count": 41,
     "metadata": {},
     "output_type": "execute_result"
    }
   ],
   "source": [
    "df['title'].duplicated().value_counts()"
   ]
  },
  {
   "cell_type": "code",
   "execution_count": 42,
   "id": "e78168e2-cc63-4d5f-9240-c5b4d276bb25",
   "metadata": {},
   "outputs": [
    {
     "data": {
      "text/plain": [
       "text\n",
       "False    62200\n",
       "True      9337\n",
       "Name: count, dtype: int64"
      ]
     },
     "execution_count": 42,
     "metadata": {},
     "output_type": "execute_result"
    }
   ],
   "source": [
    "df['text'].duplicated().value_counts()"
   ]
  },
  {
   "cell_type": "markdown",
   "id": "ccdb69c5-961b-47a3-9d99-82a901f0c3fa",
   "metadata": {},
   "source": [
    "### DROPPING DUPLICATES :"
   ]
  },
  {
   "cell_type": "code",
   "execution_count": 44,
   "id": "31eea090-eccd-43ec-9507-83efbfd69484",
   "metadata": {},
   "outputs": [
    {
     "name": "stdout",
     "output_type": "stream",
     "text": [
      "common duplicates dropped from data !!\n"
     ]
    }
   ],
   "source": [
    "df1 = df.drop_duplicates(['title','text'],keep='first')              # dropping common duplicates from both columns\n",
    "print('common duplicates dropped from data !!')"
   ]
  },
  {
   "cell_type": "code",
   "execution_count": 45,
   "id": "096134ca-b8d2-455b-8d33-7df4a3726d51",
   "metadata": {},
   "outputs": [
    {
     "data": {
      "text/plain": [
       "False    63121\n",
       "Name: count, dtype: int64"
      ]
     },
     "execution_count": 45,
     "metadata": {},
     "output_type": "execute_result"
    }
   ],
   "source": [
    "df1[['title','text']].duplicated().value_counts()"
   ]
  },
  {
   "cell_type": "code",
   "execution_count": 46,
   "id": "24cbd174-13d9-419a-ad2b-568da63f4e02",
   "metadata": {},
   "outputs": [
    {
     "data": {
      "text/plain": [
       "title\n",
       "False    62308\n",
       "True       813\n",
       "Name: count, dtype: int64"
      ]
     },
     "execution_count": 46,
     "metadata": {},
     "output_type": "execute_result"
    }
   ],
   "source": [
    "df1['title'].duplicated().value_counts()"
   ]
  },
  {
   "cell_type": "code",
   "execution_count": 47,
   "id": "d26aec9b-2582-4dde-8291-d2bab0cf3d54",
   "metadata": {},
   "outputs": [
    {
     "data": {
      "text/plain": [
       "text\n",
       "False    62200\n",
       "True       921\n",
       "Name: count, dtype: int64"
      ]
     },
     "execution_count": 47,
     "metadata": {},
     "output_type": "execute_result"
    }
   ],
   "source": [
    "df1['text'].duplicated().value_counts()"
   ]
  },
  {
   "cell_type": "code",
   "execution_count": 48,
   "id": "699d7a10-6e5e-4606-b3dc-1f78c435085a",
   "metadata": {},
   "outputs": [
    {
     "name": "stdout",
     "output_type": "stream",
     "text": [
      "duplicates dropped from title column !!\n"
     ]
    }
   ],
   "source": [
    "df2 = df1.drop_duplicates('title',keep = 'first')            # dropping duplicates from title column\n",
    "print('duplicates dropped from title column !!')"
   ]
  },
  {
   "cell_type": "code",
   "execution_count": 49,
   "id": "4069ec68-02eb-4033-8c19-aa3f9c0d4224",
   "metadata": {},
   "outputs": [
    {
     "data": {
      "text/plain": [
       "62308"
      ]
     },
     "execution_count": 49,
     "metadata": {},
     "output_type": "execute_result"
    }
   ],
   "source": [
    "df2['title'].nunique()"
   ]
  },
  {
   "cell_type": "code",
   "execution_count": 50,
   "id": "af26f92a-ed4d-4dc3-81c5-ddd3677944de",
   "metadata": {},
   "outputs": [
    {
     "name": "stdout",
     "output_type": "stream",
     "text": [
      "duplicates dropped from text column !!\n"
     ]
    }
   ],
   "source": [
    "df3 = df2.drop_duplicates('text',keep='first')              # dropping duplicates from text column \n",
    "print('duplicates dropped from text column !!')"
   ]
  },
  {
   "cell_type": "code",
   "execution_count": 51,
   "id": "9f417712-1dd3-487f-b542-eeca9dcc82e2",
   "metadata": {},
   "outputs": [
    {
     "data": {
      "text/plain": [
       "title    61393\n",
       "text     61393\n",
       "label        2\n",
       "dtype: int64"
      ]
     },
     "execution_count": 51,
     "metadata": {},
     "output_type": "execute_result"
    }
   ],
   "source": [
    "df3.nunique()"
   ]
  },
  {
   "cell_type": "code",
   "execution_count": 52,
   "id": "f8fdb07d-d657-48d5-8762-abc70dc6b5b3",
   "metadata": {},
   "outputs": [
    {
     "data": {
      "text/plain": [
       "61393"
      ]
     },
     "execution_count": 52,
     "metadata": {},
     "output_type": "execute_result"
    }
   ],
   "source": [
    "df3['title'].nunique()"
   ]
  },
  {
   "cell_type": "code",
   "execution_count": 53,
   "id": "24b5ec39-e0ed-4729-af59-0cf3f359658e",
   "metadata": {},
   "outputs": [
    {
     "data": {
      "text/plain": [
       "61393"
      ]
     },
     "execution_count": 53,
     "metadata": {},
     "output_type": "execute_result"
    }
   ],
   "source": [
    "df3['text'].nunique()"
   ]
  },
  {
   "cell_type": "code",
   "execution_count": 54,
   "id": "a4d6cdcb-c5ff-420c-bd8e-6fae023115c5",
   "metadata": {},
   "outputs": [
    {
     "data": {
      "text/plain": [
       "(61393, 3)"
      ]
     },
     "execution_count": 54,
     "metadata": {},
     "output_type": "execute_result"
    }
   ],
   "source": [
    "df3.shape"
   ]
  },
  {
   "cell_type": "markdown",
   "id": "4bc8987c-939a-46ae-8ebf-fa6ddbcf03d7",
   "metadata": {},
   "source": [
    "# DATA VISUALIZATION :"
   ]
  },
  {
   "cell_type": "code",
   "execution_count": 56,
   "id": "36ab5728-7db5-4973-aa0a-f6bba1c9e4be",
   "metadata": {},
   "outputs": [],
   "source": [
    "# we will continue with df3 after completing all cleaning"
   ]
  },
  {
   "cell_type": "markdown",
   "id": "64b3bce4-0467-4b50-ad9b-7122ff2ecce3",
   "metadata": {},
   "source": [
    "### COLUMN NAMES :"
   ]
  },
  {
   "cell_type": "code",
   "execution_count": 58,
   "id": "a89ac12c-2213-4ddd-bdcc-726cace43107",
   "metadata": {},
   "outputs": [
    {
     "data": {
      "text/plain": [
       "Index(['title', 'text', 'label'], dtype='object')"
      ]
     },
     "execution_count": 58,
     "metadata": {},
     "output_type": "execute_result"
    }
   ],
   "source": [
    "df3.columns"
   ]
  },
  {
   "cell_type": "code",
   "execution_count": 59,
   "id": "15bde595-6424-43c6-99fa-231646940e90",
   "metadata": {},
   "outputs": [
    {
     "data": {
      "text/html": [
       "<div>\n",
       "<style scoped>\n",
       "    .dataframe tbody tr th:only-of-type {\n",
       "        vertical-align: middle;\n",
       "    }\n",
       "\n",
       "    .dataframe tbody tr th {\n",
       "        vertical-align: top;\n",
       "    }\n",
       "\n",
       "    .dataframe thead th {\n",
       "        text-align: right;\n",
       "    }\n",
       "</style>\n",
       "<table border=\"1\" class=\"dataframe\">\n",
       "  <thead>\n",
       "    <tr style=\"text-align: right;\">\n",
       "      <th></th>\n",
       "      <th>title</th>\n",
       "      <th>text</th>\n",
       "      <th>label</th>\n",
       "    </tr>\n",
       "  </thead>\n",
       "  <tbody>\n",
       "    <tr>\n",
       "      <th>0</th>\n",
       "      <td>LAW ENFORCEMENT ON HIGH ALERT Following Threat...</td>\n",
       "      <td>No comment is expected from Barack Obama Membe...</td>\n",
       "      <td>1</td>\n",
       "    </tr>\n",
       "    <tr>\n",
       "      <th>2</th>\n",
       "      <td>UNBELIEVABLE! OBAMA’S ATTORNEY GENERAL SAYS MO...</td>\n",
       "      <td>Now, most of the demonstrators gathered last ...</td>\n",
       "      <td>1</td>\n",
       "    </tr>\n",
       "    <tr>\n",
       "      <th>3</th>\n",
       "      <td>Bobby Jindal, raised Hindu, uses story of Chri...</td>\n",
       "      <td>A dozen politically active pastors came here f...</td>\n",
       "      <td>0</td>\n",
       "    </tr>\n",
       "  </tbody>\n",
       "</table>\n",
       "</div>"
      ],
      "text/plain": [
       "                                               title  \\\n",
       "0  LAW ENFORCEMENT ON HIGH ALERT Following Threat...   \n",
       "2  UNBELIEVABLE! OBAMA’S ATTORNEY GENERAL SAYS MO...   \n",
       "3  Bobby Jindal, raised Hindu, uses story of Chri...   \n",
       "\n",
       "                                                text  label  \n",
       "0  No comment is expected from Barack Obama Membe...      1  \n",
       "2   Now, most of the demonstrators gathered last ...      1  \n",
       "3  A dozen politically active pastors came here f...      0  "
      ]
     },
     "execution_count": 59,
     "metadata": {},
     "output_type": "execute_result"
    }
   ],
   "source": [
    "df3.head(3)"
   ]
  },
  {
   "cell_type": "markdown",
   "id": "c2dc97f9-1cdf-4f43-8bc9-4d2e62b2e3bb",
   "metadata": {},
   "source": [
    "### VISUALIZATION OF TOTAL NUMBER OF FAKE AND REAL NEWS :"
   ]
  },
  {
   "cell_type": "code",
   "execution_count": 61,
   "id": "bd89c81d-628a-498a-9fa2-54be58070b06",
   "metadata": {},
   "outputs": [
    {
     "data": {
      "text/html": [
       "<div>\n",
       "<style scoped>\n",
       "    .dataframe tbody tr th:only-of-type {\n",
       "        vertical-align: middle;\n",
       "    }\n",
       "\n",
       "    .dataframe tbody tr th {\n",
       "        vertical-align: top;\n",
       "    }\n",
       "\n",
       "    .dataframe thead th {\n",
       "        text-align: right;\n",
       "    }\n",
       "</style>\n",
       "<table border=\"1\" class=\"dataframe\">\n",
       "  <thead>\n",
       "    <tr style=\"text-align: right;\">\n",
       "      <th></th>\n",
       "      <th>label</th>\n",
       "      <th>count</th>\n",
       "    </tr>\n",
       "  </thead>\n",
       "  <tbody>\n",
       "    <tr>\n",
       "      <th>0</th>\n",
       "      <td>0</td>\n",
       "      <td>34237</td>\n",
       "    </tr>\n",
       "    <tr>\n",
       "      <th>1</th>\n",
       "      <td>1</td>\n",
       "      <td>27156</td>\n",
       "    </tr>\n",
       "  </tbody>\n",
       "</table>\n",
       "</div>"
      ],
      "text/plain": [
       "   label  count\n",
       "0      0  34237\n",
       "1      1  27156"
      ]
     },
     "execution_count": 61,
     "metadata": {},
     "output_type": "execute_result"
    }
   ],
   "source": [
    "ds = df3['label'].value_counts().reset_index()\n",
    "ds"
   ]
  },
  {
   "cell_type": "code",
   "execution_count": 62,
   "id": "e5d18c7c-2c49-4206-aff3-c76bced361c4",
   "metadata": {},
   "outputs": [
    {
     "data": {
      "image/png": "[encoded data removed]",
      "text/plain": [
       "<Figure size 500x500 with 1 Axes>"
      ]
     },
     "metadata": {},
     "output_type": "display_data"
    }
   ],
   "source": [
    "# Plotting the value counts of the 'label' column\n",
    "\n",
    "plt.figure(figsize=(5, 5))\n",
    "ax = sns.barplot(x='label', y='count', data=ds, palette='viridis' , hue='label' )\n",
    "plt.title('Distribution of Real vs. Fake News')\n",
    "plt.xlabel('Label (0 = Fake,1 = Real)',labelpad=10)\n",
    "plt.ylabel('COUNT',labelpad=10)\n",
    "plt.xticks(rotation=0)\n",
    "plt.legend(title='LABELS',loc=(1.1,0.8))\n",
    "for i,j in enumerate(ax.containers):\n",
    "    plt.bar_label(j)\n",
    "plt.show()\n"
   ]
  },
  {
   "cell_type": "markdown",
   "id": "81a4489d-f10d-4b87-97b8-a855c6baa6fc",
   "metadata": {},
   "source": [
    " # TEXT PRE-PROCESSING :"
   ]
  },
  {
   "cell_type": "code",
   "execution_count": 64,
   "id": "cf91b3b6-40e2-47d8-9f9c-4ad7067ad92d",
   "metadata": {},
   "outputs": [],
   "source": [
    "def pre_process(title):\n",
    "    title = re.sub(r'[^a-zA-Z]',' ',title)    # REMOVING SPECIAL CHARACTERS\n",
    "    title = re.sub(r'\\s+',' ',title)          # REMOVING WHITE SPACES\n",
    "    title = title.lower()                     # LOWERING ALL CHARACTERS\n",
    "    return title\n",
    "    "
   ]
  },
  {
   "cell_type": "code",
   "execution_count": 65,
   "id": "509fc9f3-0e07-49f5-99c5-811487cbd96a",
   "metadata": {},
   "outputs": [
    {
     "name": "stderr",
     "output_type": "stream",
     "text": [
      "C:\\Users\\pc\\AppData\\Local\\Temp\\ipykernel_36804\\3218060393.py:1: SettingWithCopyWarning: \n",
      "A value is trying to be set on a copy of a slice from a DataFrame.\n",
      "Try using .loc[row_indexer,col_indexer] = value instead\n",
      "\n",
      "See the caveats in the documentation: https://pandas.pydata.org/pandas-docs/stable/user_guide/indexing.html#returning-a-view-versus-a-copy\n",
      "  df3['new_title'] = df3['title'].apply(pre_process)         # MAKING NEW COLUMN\n"
     ]
    },
    {
     "data": {
      "text/plain": [
       "0        law enforcement on high alert following threat...\n",
       "2        unbelievable obama s attorney general says mos...\n",
       "3        bobby jindal raised hindu uses story of christ...\n",
       "4        satan russia unvelis an image of its terrifyin...\n",
       "5        about time christian group sues amazon and spl...\n",
       "                               ...                        \n",
       "72127    wikileaks email shows clinton foundation funds...\n",
       "72129    russians steal research on trump in hack of u ...\n",
       "72130     watch giuliani demands that democrats apologi...\n",
       "72131    migrants refuse to leave train at refugee camp...\n",
       "72132    trump tussle gives unpopular mexican leader mu...\n",
       "Name: new_title, Length: 61393, dtype: object"
      ]
     },
     "execution_count": 65,
     "metadata": {},
     "output_type": "execute_result"
    }
   ],
   "source": [
    "df3['new_title'] = df3['title'].apply(pre_process)         # MAKING NEW COLUMN\n",
    "df3['new_title'] "
   ]
  },
  {
   "cell_type": "code",
   "execution_count": 66,
   "id": "c0b0ae0c-7967-4713-a68a-69218c813034",
   "metadata": {},
   "outputs": [],
   "source": [
    "ps = PorterStemmer()\n",
    "def stemming(text):\n",
    "    text = text.split()                                                       # SPLITTING THE STRING\n",
    "    stop_words = stopwords.words('english')                                   # REMOVING STOPWORDS\n",
    "    text = [ps.stem(word) for word in text if word not in stop_words]         # APPLYING PORTER STEMMING(CONVERTING INTO ROOT WORDS)\n",
    "    text = ' '.join(text)\n",
    "    return text\n"
   ]
  },
  {
   "cell_type": "code",
   "execution_count": 67,
   "id": "d02776c5-f99f-49c4-9e9c-ee9f1b5705bd",
   "metadata": {},
   "outputs": [
    {
     "name": "stderr",
     "output_type": "stream",
     "text": [
      "C:\\Users\\pc\\AppData\\Local\\Temp\\ipykernel_36804\\3536242739.py:1: SettingWithCopyWarning: \n",
      "A value is trying to be set on a copy of a slice from a DataFrame.\n",
      "Try using .loc[row_indexer,col_indexer] = value instead\n",
      "\n",
      "See the caveats in the documentation: https://pandas.pydata.org/pandas-docs/stable/user_guide/indexing.html#returning-a-view-versus-a-copy\n",
      "  df3['new_title'] = df3['new_title'].apply(stemming)\n"
     ]
    }
   ],
   "source": [
    "df3['new_title'] = df3['new_title'].apply(stemming) "
   ]
  },
  {
   "cell_type": "markdown",
   "id": "7720d181-45a2-4b63-9188-571c18b98a2d",
   "metadata": {},
   "source": [
    "### DROPPING UNNECESSARY COLUMNS :"
   ]
  },
  {
   "cell_type": "code",
   "execution_count": 69,
   "id": "548cf007-42a3-4c0f-be0c-8600f2916b72",
   "metadata": {},
   "outputs": [
    {
     "name": "stdout",
     "output_type": "stream",
     "text": [
      "title and text columns are removed because of no further use !!\n"
     ]
    }
   ],
   "source": [
    "df3 = df3.drop(['title','text'],axis=1)        # DROPPING UNNECESSARY COLUMNS\n",
    "print('title and text columns are removed because of no further use !!')"
   ]
  },
  {
   "cell_type": "markdown",
   "id": "2f19e130-fcf6-4da1-b035-512e5d73fede",
   "metadata": {},
   "source": [
    "### RESETTING THE INDEX :"
   ]
  },
  {
   "cell_type": "code",
   "execution_count": 71,
   "id": "d97c9fcd-216d-4f85-83b9-fe349a3d264c",
   "metadata": {},
   "outputs": [],
   "source": [
    "df3.reset_index(drop=True,inplace=True)"
   ]
  },
  {
   "cell_type": "code",
   "execution_count": 72,
   "id": "a8a9c080-13fc-40cf-8769-885a34624bfb",
   "metadata": {},
   "outputs": [
    {
     "data": {
      "text/html": [
       "<div>\n",
       "<style scoped>\n",
       "    .dataframe tbody tr th:only-of-type {\n",
       "        vertical-align: middle;\n",
       "    }\n",
       "\n",
       "    .dataframe tbody tr th {\n",
       "        vertical-align: top;\n",
       "    }\n",
       "\n",
       "    .dataframe thead th {\n",
       "        text-align: right;\n",
       "    }\n",
       "</style>\n",
       "<table border=\"1\" class=\"dataframe\">\n",
       "  <thead>\n",
       "    <tr style=\"text-align: right;\">\n",
       "      <th></th>\n",
       "      <th>label</th>\n",
       "      <th>new_title</th>\n",
       "    </tr>\n",
       "  </thead>\n",
       "  <tbody>\n",
       "    <tr>\n",
       "      <th>0</th>\n",
       "      <td>1</td>\n",
       "      <td>law enforc high alert follow threat cop white ...</td>\n",
       "    </tr>\n",
       "    <tr>\n",
       "      <th>1</th>\n",
       "      <td>1</td>\n",
       "      <td>unbeliev obama attorney gener say charlott rio...</td>\n",
       "    </tr>\n",
       "  </tbody>\n",
       "</table>\n",
       "</div>"
      ],
      "text/plain": [
       "   label                                          new_title\n",
       "0      1  law enforc high alert follow threat cop white ...\n",
       "1      1  unbeliev obama attorney gener say charlott rio..."
      ]
     },
     "execution_count": 72,
     "metadata": {},
     "output_type": "execute_result"
    }
   ],
   "source": [
    "df3.head(2)"
   ]
  },
  {
   "cell_type": "code",
   "execution_count": 73,
   "id": "2d95acd4-7612-4555-b23d-3171f07acfce",
   "metadata": {},
   "outputs": [
    {
     "name": "stdout",
     "output_type": "stream",
     "text": [
      "<class 'pandas.core.frame.DataFrame'>\n",
      "RangeIndex: 61393 entries, 0 to 61392\n",
      "Data columns (total 2 columns):\n",
      " #   Column     Non-Null Count  Dtype \n",
      "---  ------     --------------  ----- \n",
      " 0   label      61393 non-null  int64 \n",
      " 1   new_title  61393 non-null  object\n",
      "dtypes: int64(1), object(1)\n",
      "memory usage: 959.4+ KB\n"
     ]
    }
   ],
   "source": [
    "df3.info()"
   ]
  },
  {
   "cell_type": "code",
   "execution_count": 74,
   "id": "91d9ddf7-a9c8-407a-b6b8-bd740df02a00",
   "metadata": {},
   "outputs": [
    {
     "data": {
      "text/plain": [
       "1"
      ]
     },
     "execution_count": 74,
     "metadata": {},
     "output_type": "execute_result"
    }
   ],
   "source": [
    "# what is label column \n",
    "df3.iloc[0,0]\n",
    "\n",
    "# 0-fake news\n",
    "# 1-real news"
   ]
  },
  {
   "cell_type": "code",
   "execution_count": 75,
   "id": "005aa6c6-5e53-46b6-b562-479b3be5b3e4",
   "metadata": {},
   "outputs": [
    {
     "data": {
      "text/plain": [
       "'law enforc high alert follow threat cop white blacklivesmatt fyf terrorist video'"
      ]
     },
     "execution_count": 75,
     "metadata": {},
     "output_type": "execute_result"
    }
   ],
   "source": [
    "# what is new_title\n",
    "df3.iloc[0,1]\n",
    "\n",
    "# news title"
   ]
  },
  {
   "cell_type": "markdown",
   "id": "fc50f8fb-ac44-41c4-85d8-436b16895a80",
   "metadata": {},
   "source": [
    "# CREATING WORDCLOUD OF NEW_TITLE COLUMN:"
   ]
  },
  {
   "cell_type": "code",
   "execution_count": 77,
   "id": "77d15aac-1535-4eb8-a9a6-e2439110f623",
   "metadata": {},
   "outputs": [],
   "source": [
    "all_title_words = ''.join(df3['new_title'])"
   ]
  },
  {
   "cell_type": "code",
   "execution_count": 78,
   "id": "b1ddffac-709c-4b21-a577-4761ba128352",
   "metadata": {},
   "outputs": [
    {
     "data": {
      "text/plain": [
       "'law enforc high alert follow threat cop white blacklivesmatt fyf terrorist videounbeliev obama attorney gener say charlott rioter peac protest home state north carolina videobobbi jindal rais hindu use stori christian convers woo evangel potenti bidsatan russia unv imag terrifi new supernuk western world take notictime christian group sue amazon splc design hate groupdr ben carson target ir never audit spoke nation prayer breakfasthous intel chai'"
      ]
     },
     "execution_count": 78,
     "metadata": {},
     "output_type": "execute_result"
    }
   ],
   "source": [
    "all_title_words[:450]"
   ]
  },
  {
   "cell_type": "markdown",
   "id": "47579cdf-c2fa-4933-9e38-6983eafb6171",
   "metadata": {},
   "source": [
    "### INSTALLING AND IMPORTING WORDCLOUD :"
   ]
  },
  {
   "cell_type": "code",
   "execution_count": 80,
   "id": "35e22915-503f-43cf-b0fb-fcd14d864008",
   "metadata": {},
   "outputs": [
    {
     "name": "stdout",
     "output_type": "stream",
     "text": [
      "Requirement already satisfied: wordcloud in c:\\users\\pc\\anaconda3\\lib\\site-packages (1.9.4)\n",
      "Requirement already satisfied: numpy>=1.6.1 in c:\\users\\pc\\anaconda3\\lib\\site-packages (from wordcloud) (1.26.4)\n",
      "Requirement already satisfied: pillow in c:\\users\\pc\\anaconda3\\lib\\site-packages (from wordcloud) (10.3.0)\n",
      "Requirement already satisfied: matplotlib in c:\\users\\pc\\anaconda3\\lib\\site-packages (from wordcloud) (3.8.4)\n",
      "Requirement already satisfied: contourpy>=1.0.1 in c:\\users\\pc\\anaconda3\\lib\\site-packages (from matplotlib->wordcloud) (1.2.0)\n",
      "Requirement already satisfied: cycler>=0.10 in c:\\users\\pc\\anaconda3\\lib\\site-packages (from matplotlib->wordcloud) (0.11.0)\n",
      "Requirement already satisfied: fonttools>=4.22.0 in c:\\users\\pc\\anaconda3\\lib\\site-packages (from matplotlib->wordcloud) (4.51.0)\n",
      "Requirement already satisfied: kiwisolver>=1.3.1 in c:\\users\\pc\\anaconda3\\lib\\site-packages (from matplotlib->wordcloud) (1.4.4)\n",
      "Requirement already satisfied: packaging>=20.0 in c:\\users\\pc\\anaconda3\\lib\\site-packages (from matplotlib->wordcloud) (23.2)\n",
      "Requirement already satisfied: pyparsing>=2.3.1 in c:\\users\\pc\\anaconda3\\lib\\site-packages (from matplotlib->wordcloud) (3.0.9)\n",
      "Requirement already satisfied: python-dateutil>=2.7 in c:\\users\\pc\\anaconda3\\lib\\site-packages (from matplotlib->wordcloud) (2.9.0.post0)\n",
      "Requirement already satisfied: six>=1.5 in c:\\users\\pc\\anaconda3\\lib\\site-packages (from python-dateutil>=2.7->matplotlib->wordcloud) (1.16.0)\n",
      "Note: you may need to restart the kernel to use updated packages.\n"
     ]
    }
   ],
   "source": [
    "pip install wordcloud\n"
   ]
  },
  {
   "cell_type": "code",
   "execution_count": 81,
   "id": "28b078b6-d93d-4693-bd1b-735a92ddf4de",
   "metadata": {},
   "outputs": [],
   "source": [
    "from wordcloud import WordCloud"
   ]
  },
  {
   "cell_type": "code",
   "execution_count": 82,
   "id": "fe7e77a4-10b2-4ae2-8f2c-1511155d1fc3",
   "metadata": {},
   "outputs": [
    {
     "data": {
      "image/png": "[encoded data removed]",
      "text/plain": [
       "<Figure size 640x480 with 1 Axes>"
      ]
     },
     "metadata": {},
     "output_type": "display_data"
    }
   ],
   "source": [
    "plt.imshow(WordCloud(background_color='brown',height=500,width=800).generate(all_title_words))\n",
    "plt.title('WORDS USED MORE FREQUENTLY',fontsize=18,pad=10)\n",
    "plt.show()"
   ]
  },
  {
   "cell_type": "code",
   "execution_count": null,
   "id": "eb2f66db-672f-4ed1-87db-e7dbf13af138",
   "metadata": {},
   "outputs": [],
   "source": []
  },
  {
   "cell_type": "markdown",
   "id": "7f861201-673b-4c02-b6ae-fc072afdf476",
   "metadata": {},
   "source": [
    "#  CREATING AND TRANSFORMING VARIABLES INTO VECTORS :"
   ]
  },
  {
   "cell_type": "markdown",
   "id": "3de472dc-b83b-4947-b85b-833398a16b8e",
   "metadata": {},
   "source": [
    "### x and y creation :"
   ]
  },
  {
   "cell_type": "code",
   "execution_count": 85,
   "id": "68fb5dc3-02c7-4cb1-927f-d27495853626",
   "metadata": {},
   "outputs": [
    {
     "data": {
      "text/plain": [
       "0        law enforc high alert follow threat cop white ...\n",
       "1        unbeliev obama attorney gener say charlott rio...\n",
       "2        bobbi jindal rais hindu use stori christian co...\n",
       "3        satan russia unv imag terrifi new supernuk wes...\n",
       "4        time christian group sue amazon splc design ha...\n",
       "                               ...                        \n",
       "61388    wikileak email show clinton foundat fund use l...\n",
       "61389    russian steal research trump hack u democrat p...\n",
       "61390    watch giuliani demand democrat apolog trump ra...\n",
       "61391         migrant refus leav train refuge camp hungari\n",
       "61392    trump tussl give unpopular mexican leader much...\n",
       "Name: new_title, Length: 61393, dtype: object"
      ]
     },
     "execution_count": 85,
     "metadata": {},
     "output_type": "execute_result"
    }
   ],
   "source": [
    "x = df3['new_title']\n",
    "x"
   ]
  },
  {
   "cell_type": "code",
   "execution_count": 86,
   "id": "749ea04c-0476-474c-b037-3aebc996aef1",
   "metadata": {},
   "outputs": [
    {
     "data": {
      "text/plain": [
       "0        1\n",
       "1        1\n",
       "2        0\n",
       "3        1\n",
       "4        1\n",
       "        ..\n",
       "61388    1\n",
       "61389    0\n",
       "61390    1\n",
       "61391    0\n",
       "61392    0\n",
       "Name: label, Length: 61393, dtype: int64"
      ]
     },
     "execution_count": 86,
     "metadata": {},
     "output_type": "execute_result"
    }
   ],
   "source": [
    "y = df3['label']\n",
    "y"
   ]
  },
  {
   "cell_type": "code",
   "execution_count": 87,
   "id": "a7310abe-9cf6-4244-931b-c4313bfae261",
   "metadata": {},
   "outputs": [
    {
     "name": "stdout",
     "output_type": "stream",
     "text": [
      "x-shape:(61393,) \n",
      " y-shape:(61393,) \n"
     ]
    }
   ],
   "source": [
    "print(f'x-shape:{x.shape} \\n y-shape:{y.shape} ')"
   ]
  },
  {
   "cell_type": "markdown",
   "id": "b60039b1-93bf-48c7-b16e-8ef52d4f7bc3",
   "metadata": {},
   "source": [
    "### converting text into binary through vectorization :"
   ]
  },
  {
   "cell_type": "code",
   "execution_count": 89,
   "id": "402f8157-b830-4ca8-b963-f4fa507004d0",
   "metadata": {},
   "outputs": [],
   "source": [
    "vector = TfidfVectorizer()                       #  term frequency-inverse document frequency vectorizer\n",
    "vector = vector.fit(x)\n",
    "x = vector.transform(x)\n"
   ]
  },
  {
   "cell_type": "code",
   "execution_count": 90,
   "id": "e6f460f1-7676-4601-84a6-d7239074b53e",
   "metadata": {},
   "outputs": [
    {
     "name": "stdout",
     "output_type": "stream",
     "text": [
      "x-shape after vectorization is : (61393, 19374)\n"
     ]
    }
   ],
   "source": [
    "print('x-shape after vectorization is :',x.shape)"
   ]
  },
  {
   "cell_type": "markdown",
   "id": "6634d56a-ad24-462f-9d9d-5c01c7e6c287",
   "metadata": {},
   "source": [
    "### Dividing the data into training and testing:"
   ]
  },
  {
   "cell_type": "code",
   "execution_count": 92,
   "id": "f6119951-be7e-498b-8ec3-ed201f134fa2",
   "metadata": {},
   "outputs": [],
   "source": [
    "x_train,x_test,y_train,y_test = train_test_split(x,y,test_size = 0.20,stratify = y,random_state=20)"
   ]
  },
  {
   "cell_type": "code",
   "execution_count": 93,
   "id": "ff986497-5417-4558-a82a-49360f9ff53e",
   "metadata": {},
   "outputs": [
    {
     "name": "stdout",
     "output_type": "stream",
     "text": [
      "x_train-shape:(49114, 19374) \n",
      " x_test-shape:(12279, 19374) \n"
     ]
    }
   ],
   "source": [
    "print(f'x_train-shape:{x_train.shape} \\n x_test-shape:{x_test.shape} ')"
   ]
  },
  {
   "cell_type": "code",
   "execution_count": 94,
   "id": "a51d3a7d-462d-4791-8052-8f7ab709cb63",
   "metadata": {},
   "outputs": [
    {
     "name": "stdout",
     "output_type": "stream",
     "text": [
      "y_train-shape:(49114,) \n",
      " y_test-shape:(12279,) \n"
     ]
    }
   ],
   "source": [
    "print(f'y_train-shape:{y_train.shape} \\n y_test-shape:{y_test.shape} ')"
   ]
  },
  {
   "cell_type": "markdown",
   "id": "0d2660b7-5a92-4be3-9073-1fb7f2b9c7a2",
   "metadata": {},
   "source": [
    "# MULTIPLE MODELS CREATION :"
   ]
  },
  {
   "cell_type": "markdown",
   "id": "0cd94c60-1a41-479e-b702-1f1170a2e9bb",
   "metadata": {},
   "source": [
    "##  model prediction using logistic regression :"
   ]
  },
  {
   "cell_type": "code",
   "execution_count": 97,
   "id": "7522bccf-0305-4b27-af50-0a4bde511cfa",
   "metadata": {},
   "outputs": [
    {
     "name": "stdout",
     "output_type": "stream",
     "text": [
      "total time taken to run the cell is: 0.66\n"
     ]
    }
   ],
   "source": [
    "start_time = time.time()\n",
    "\n",
    "lr_model = LogisticRegression()\n",
    "lr_model = lr_model.fit(x_train,y_train)\n",
    "lr_model\n",
    "\n",
    "end_time = time.time()\n",
    "total_time_lr = end_time - start_time\n",
    "print(f'total time taken to run the cell is: {round(total_time_lr,2)}')\n",
    "\n",
    "\n",
    "notification.notify(\n",
    "\t\t\ttitle = \"CELL EXECUTED\",\n",
    "\t\t\tmessage=\" Lr_model executed Successfully !!\" ,\t\n",
    "\t\t\ttimeout=2)"
   ]
  },
  {
   "cell_type": "code",
   "execution_count": 98,
   "id": "493c6c26-2986-4afe-8d25-d61894a0127d",
   "metadata": {},
   "outputs": [
    {
     "data": {
      "text/plain": [
       "array([1, 1, 1, ..., 0, 1, 1], dtype=int64)"
      ]
     },
     "execution_count": 98,
     "metadata": {},
     "output_type": "execute_result"
    }
   ],
   "source": [
    "y_pred_lr = lr_model.predict(x_test)\n",
    "y_pred_lr"
   ]
  },
  {
   "cell_type": "code",
   "execution_count": 99,
   "id": "a654e289-921e-4e6a-830b-93606c627a3f",
   "metadata": {},
   "outputs": [
    {
     "name": "stdout",
     "output_type": "stream",
     "text": [
      "Actual Score= 91.66 %\n"
     ]
    }
   ],
   "source": [
    "print('Actual Score=',round((lr_model.score(x_train,y_train)*100),2),'%')"
   ]
  },
  {
   "cell_type": "code",
   "execution_count": 100,
   "id": "5f2de380-5184-48d1-973a-4d69df128883",
   "metadata": {},
   "outputs": [
    {
     "name": "stdout",
     "output_type": "stream",
     "text": [
      "Actual Score= 88.83 %\n"
     ]
    }
   ],
   "source": [
    "print('Actual Score=',round((lr_model.score(x_test,y_test)*100),2),'%')"
   ]
  },
  {
   "cell_type": "code",
   "execution_count": 101,
   "id": "e8cecf74-1e8b-413b-8520-8334fc42ac64",
   "metadata": {},
   "outputs": [
    {
     "name": "stdout",
     "output_type": "stream",
     "text": [
      "[[6163  685]\n",
      " [ 687 4744]]\n"
     ]
    }
   ],
   "source": [
    "print (confusion_matrix(y_test,y_pred_lr))"
   ]
  },
  {
   "cell_type": "code",
   "execution_count": 102,
   "id": "e448951e-9a14-470f-85a7-7c351c5463a4",
   "metadata": {},
   "outputs": [
    {
     "name": "stdout",
     "output_type": "stream",
     "text": [
      "              precision    recall  f1-score   support\n",
      "\n",
      "           0       0.90      0.90      0.90      6848\n",
      "           1       0.87      0.87      0.87      5431\n",
      "\n",
      "    accuracy                           0.89     12279\n",
      "   macro avg       0.89      0.89      0.89     12279\n",
      "weighted avg       0.89      0.89      0.89     12279\n",
      "\n"
     ]
    }
   ],
   "source": [
    "print (classification_report(y_test,y_pred_lr))"
   ]
  },
  {
   "cell_type": "code",
   "execution_count": 103,
   "id": "6a5d3699-1fcf-4be6-8967-320af770d17b",
   "metadata": {},
   "outputs": [
    {
     "data": {
      "image/png": "[encoded data removed]",
      "text/plain": [
       "<Figure size 640x480 with 2 Axes>"
      ]
     },
     "metadata": {},
     "output_type": "display_data"
    }
   ],
   "source": [
    "sns.heatmap(confusion_matrix(y_test,y_pred_lr),annot=True,fmt='0g')\n",
    "plt.title('Logistic Regression Model',fontsize=20,pad=10)\n",
    "plt.xlabel('Predicted Value',fontsize=15)\n",
    "plt.ylabel('Actual Value',fontsize=15)\n",
    "plt.show()"
   ]
  },
  {
   "cell_type": "code",
   "execution_count": null,
   "id": "4a96fcd0-3932-4008-836a-44fc644955ec",
   "metadata": {},
   "outputs": [],
   "source": []
  },
  {
   "cell_type": "markdown",
   "id": "56e523fb-2e36-455e-aa3a-fc3259fcf43b",
   "metadata": {},
   "source": [
    "## Model prediction using DecisionTreeClassifier :"
   ]
  },
  {
   "cell_type": "code",
   "execution_count": 105,
   "id": "557da142-1f0b-4032-918d-ddc3b7699ee3",
   "metadata": {},
   "outputs": [
    {
     "name": "stdout",
     "output_type": "stream",
     "text": [
      "total time taken to run the cell is: 26.27\n"
     ]
    }
   ],
   "source": [
    "start_time = time.time()\n",
    "\n",
    "dt_model = DecisionTreeClassifier()\n",
    "dt_model = dt_model.fit(x_train,y_train)\n",
    "dt_model\n",
    "\n",
    "end_time = time.time()\n",
    "total_time_dt = end_time - start_time\n",
    "print(f'total time taken to run the cell is: {round(total_time_dt,2)}')\n",
    "\n",
    "notification.notify(\n",
    "\t\t\ttitle = \"CELL EXECUTED\",\n",
    "\t\t\tmessage=\" DT_model executed Successfully !!\" ,\t\n",
    "\t\t\ttimeout=2)"
   ]
  },
  {
   "cell_type": "code",
   "execution_count": 106,
   "id": "45c410c5-e330-484a-b940-1b76bfb0e2ee",
   "metadata": {},
   "outputs": [
    {
     "data": {
      "text/plain": [
       "array([1, 1, 1, ..., 0, 0, 1], dtype=int64)"
      ]
     },
     "execution_count": 106,
     "metadata": {},
     "output_type": "execute_result"
    }
   ],
   "source": [
    "y_pred_dt = dt_model.predict(x_test)\n",
    "y_pred_dt"
   ]
  },
  {
   "cell_type": "code",
   "execution_count": 107,
   "id": "a0ea2f9b-6c2e-4788-8307-6428293cc688",
   "metadata": {},
   "outputs": [
    {
     "name": "stdout",
     "output_type": "stream",
     "text": [
      "Actual Score= 100.0 %\n"
     ]
    }
   ],
   "source": [
    "print('Actual Score=',round((dt_model.score(x_train,y_train)*100),2),'%')"
   ]
  },
  {
   "cell_type": "code",
   "execution_count": 108,
   "id": "1b7bff74-185b-454e-b692-320ea2d4b258",
   "metadata": {},
   "outputs": [
    {
     "name": "stdout",
     "output_type": "stream",
     "text": [
      "Actual Score= 83.44 %\n"
     ]
    }
   ],
   "source": [
    "print('Actual Score=',round((dt_model.score(x_test,y_test)*100),2),'%')"
   ]
  },
  {
   "cell_type": "code",
   "execution_count": 109,
   "id": "2c24e5af-6b13-4ac5-85d8-95d78b23d5d7",
   "metadata": {},
   "outputs": [
    {
     "name": "stdout",
     "output_type": "stream",
     "text": [
      "[[5915  933]\n",
      " [1101 4330]]\n"
     ]
    }
   ],
   "source": [
    "print (confusion_matrix(y_test,y_pred_dt))"
   ]
  },
  {
   "cell_type": "code",
   "execution_count": 110,
   "id": "0d53e771-b509-4cb8-a3c7-4ca3398febaf",
   "metadata": {},
   "outputs": [
    {
     "name": "stdout",
     "output_type": "stream",
     "text": [
      "              precision    recall  f1-score   support\n",
      "\n",
      "           0       0.84      0.86      0.85      6848\n",
      "           1       0.82      0.80      0.81      5431\n",
      "\n",
      "    accuracy                           0.83     12279\n",
      "   macro avg       0.83      0.83      0.83     12279\n",
      "weighted avg       0.83      0.83      0.83     12279\n",
      "\n"
     ]
    }
   ],
   "source": [
    "print (classification_report(y_test,y_pred_dt))"
   ]
  },
  {
   "cell_type": "code",
   "execution_count": 111,
   "id": "ceed9310-c67e-41de-8d31-01441ac6723f",
   "metadata": {},
   "outputs": [
    {
     "data": {
      "image/png": "[encoded data removed]",
      "text/plain": [
       "<Figure size 640x480 with 2 Axes>"
      ]
     },
     "metadata": {},
     "output_type": "display_data"
    }
   ],
   "source": [
    "sns.heatmap(confusion_matrix(y_test,y_pred_dt),annot=True,fmt='0g')\n",
    "plt.title('Decision Tree Model',fontsize=20,pad=10)\n",
    "plt.xlabel('Predicted Value',fontsize=15)\n",
    "plt.ylabel('Actual Value',fontsize=15)\n",
    "plt.show()"
   ]
  },
  {
   "cell_type": "code",
   "execution_count": null,
   "id": "04b6941b-0e94-4715-a64d-5a765c6bf045",
   "metadata": {},
   "outputs": [],
   "source": []
  },
  {
   "cell_type": "markdown",
   "id": "736b739b-2265-4676-b4ae-f5d49ac83cfc",
   "metadata": {},
   "source": [
    "## Prediction using RandomForestClassifier :"
   ]
  },
  {
   "cell_type": "code",
   "execution_count": 113,
   "id": "ffe4d32f-261a-4694-bce8-6f72acb04528",
   "metadata": {},
   "outputs": [
    {
     "name": "stdout",
     "output_type": "stream",
     "text": [
      "total time taken to run the cell is: 285.34\n"
     ]
    }
   ],
   "source": [
    "start_time = time.time()\n",
    "\n",
    "rf_model = RandomForestClassifier()\n",
    "rf_model = rf_model.fit(x_train,y_train)\n",
    "rf_model\n",
    "\n",
    "end_time = time.time()\n",
    "total_time_rf = end_time - start_time\n",
    "print(f'total time taken to run the cell is: {round(total_time_rf,2)}')\n",
    "\n",
    "notification.notify(\n",
    "\t\t\ttitle = \"CELL EXECUTED\",\n",
    "\t\t\tmessage=\" RF_model executed Successfully !!\" ,\t\n",
    "\t\t\ttimeout=2)"
   ]
  },
  {
   "cell_type": "code",
   "execution_count": 114,
   "id": "be069874-953d-43c0-8cfc-9bd24ffc8a22",
   "metadata": {},
   "outputs": [
    {
     "data": {
      "text/plain": [
       "array([1, 0, 1, ..., 0, 0, 1], dtype=int64)"
      ]
     },
     "execution_count": 114,
     "metadata": {},
     "output_type": "execute_result"
    }
   ],
   "source": [
    "y_pred_rf = rf_model.predict(x_test)\n",
    "y_pred_rf"
   ]
  },
  {
   "cell_type": "code",
   "execution_count": 115,
   "id": "4f2c0442-5093-4893-b578-a1a03ca21f29",
   "metadata": {},
   "outputs": [
    {
     "name": "stdout",
     "output_type": "stream",
     "text": [
      "Actual Score= 99.99 %\n"
     ]
    }
   ],
   "source": [
    "print('Actual Score=',round((rf_model.score(x_train,y_train)*100),2),'%')"
   ]
  },
  {
   "cell_type": "code",
   "execution_count": 116,
   "id": "c2b28d64-78ce-4ccd-aabc-874b33804064",
   "metadata": {},
   "outputs": [
    {
     "name": "stdout",
     "output_type": "stream",
     "text": [
      "Actual Score= 88.48 %\n"
     ]
    }
   ],
   "source": [
    "print('Actual Score=',round((rf_model.score(x_test,y_test)*100),2),'%')"
   ]
  },
  {
   "cell_type": "code",
   "execution_count": 117,
   "id": "d6f2c46a-298a-45c6-8ab4-7ec866d9c12b",
   "metadata": {},
   "outputs": [
    {
     "name": "stdout",
     "output_type": "stream",
     "text": [
      "[[6150  698]\n",
      " [ 716 4715]]\n"
     ]
    }
   ],
   "source": [
    "print (confusion_matrix(y_test,y_pred_rf))"
   ]
  },
  {
   "cell_type": "code",
   "execution_count": 118,
   "id": "55f7cc93-1428-47c9-b5db-b5075ce81b70",
   "metadata": {},
   "outputs": [
    {
     "name": "stdout",
     "output_type": "stream",
     "text": [
      "              precision    recall  f1-score   support\n",
      "\n",
      "           0       0.90      0.90      0.90      6848\n",
      "           1       0.87      0.87      0.87      5431\n",
      "\n",
      "    accuracy                           0.88     12279\n",
      "   macro avg       0.88      0.88      0.88     12279\n",
      "weighted avg       0.88      0.88      0.88     12279\n",
      "\n"
     ]
    }
   ],
   "source": [
    "print (classification_report(y_test,y_pred_rf))"
   ]
  },
  {
   "cell_type": "code",
   "execution_count": 119,
   "id": "6c755e81-06b6-4c99-9015-5b7780c9a664",
   "metadata": {},
   "outputs": [
    {
     "data": {
      "image/png": "[encoded data removed]",
      "text/plain": [
       "<Figure size 640x480 with 2 Axes>"
      ]
     },
     "metadata": {},
     "output_type": "display_data"
    }
   ],
   "source": [
    "sns.heatmap(confusion_matrix(y_test,y_pred_rf),annot=True,fmt='0g')\n",
    "plt.title('Random Forest Model',fontsize=20,pad=10)\n",
    "plt.xlabel('Predicted Value',fontsize=15)\n",
    "plt.ylabel('Actual Value',fontsize=15)\n",
    "plt.show()"
   ]
  },
  {
   "cell_type": "code",
   "execution_count": null,
   "id": "f5e0a83a-aaca-47e9-8a9a-197f1819e8a3",
   "metadata": {},
   "outputs": [],
   "source": []
  },
  {
   "cell_type": "markdown",
   "id": "ff016fa9-f029-4a6a-a855-beb471e5c174",
   "metadata": {},
   "source": [
    "## Prediction using K Nearest Neighbors :"
   ]
  },
  {
   "cell_type": "code",
   "execution_count": 121,
   "id": "03b94e92-c1d9-4aa8-affb-384760f3677c",
   "metadata": {},
   "outputs": [
    {
     "name": "stdout",
     "output_type": "stream",
     "text": [
      "total time taken to run the cell is: 0.02\n"
     ]
    }
   ],
   "source": [
    "start_time = time.time()\n",
    "\n",
    "knn_model = KNeighborsClassifier()\n",
    "knn_model = knn_model.fit(x_train,y_train)\n",
    "knn_model\n",
    "\n",
    "end_time = time.time()\n",
    "total_time_knn = end_time - start_time\n",
    "print(f'total time taken to run the cell is: {round(total_time_knn,2)}')\n",
    "\n",
    "notification.notify(\n",
    "\t\t\ttitle = \"CELL EXECUTED\",\n",
    "\t\t\tmessage=\" KNN_model executed Successfully !!\" ,\t\n",
    "\t\t\ttimeout=2)"
   ]
  },
  {
   "cell_type": "code",
   "execution_count": 122,
   "id": "e906963f-fa1d-4dad-bc73-90a1fc0c680b",
   "metadata": {},
   "outputs": [
    {
     "data": {
      "text/plain": [
       "array([1, 1, 1, ..., 1, 1, 1], dtype=int64)"
      ]
     },
     "execution_count": 122,
     "metadata": {},
     "output_type": "execute_result"
    }
   ],
   "source": [
    "y_pred_knn = knn_model.predict(x_test)\n",
    "y_pred_knn"
   ]
  },
  {
   "cell_type": "code",
   "execution_count": 123,
   "id": "b819b298-10a5-4b18-91ed-a34125ac480b",
   "metadata": {},
   "outputs": [
    {
     "name": "stdout",
     "output_type": "stream",
     "text": [
      "Actual Score= 50.75 %\n"
     ]
    }
   ],
   "source": [
    "print('Actual Score=',round((knn_model.score(x_train,y_train)*100),2),'%')"
   ]
  },
  {
   "cell_type": "code",
   "execution_count": 124,
   "id": "5c07ad20-52e2-4fe1-a572-52e01d822e87",
   "metadata": {},
   "outputs": [
    {
     "name": "stdout",
     "output_type": "stream",
     "text": [
      "Actual Score= 47.72 %\n"
     ]
    }
   ],
   "source": [
    "print('Actual Score=',round((knn_model.score(x_test,y_test)*100),2),'%')"
   ]
  },
  {
   "cell_type": "code",
   "execution_count": 125,
   "id": "285f744c-1ff1-4362-b7da-4a318182af13",
   "metadata": {},
   "outputs": [
    {
     "name": "stdout",
     "output_type": "stream",
     "text": [
      "[[ 448 6400]\n",
      " [  20 5411]]\n"
     ]
    }
   ],
   "source": [
    "print (confusion_matrix(y_test,y_pred_knn))"
   ]
  },
  {
   "cell_type": "code",
   "execution_count": 126,
   "id": "8a8a20f1-35b0-4f32-bc07-81d146f80544",
   "metadata": {},
   "outputs": [
    {
     "name": "stdout",
     "output_type": "stream",
     "text": [
      "              precision    recall  f1-score   support\n",
      "\n",
      "           0       0.96      0.07      0.12      6848\n",
      "           1       0.46      1.00      0.63      5431\n",
      "\n",
      "    accuracy                           0.48     12279\n",
      "   macro avg       0.71      0.53      0.38     12279\n",
      "weighted avg       0.74      0.48      0.35     12279\n",
      "\n"
     ]
    }
   ],
   "source": [
    "print (classification_report(y_test,y_pred_knn))"
   ]
  },
  {
   "cell_type": "code",
   "execution_count": 127,
   "id": "0d2582fa-afea-4b55-ab42-9e68862da5dd",
   "metadata": {},
   "outputs": [
    {
     "data": {
      "image/png": "[encoded data removed]",
      "text/plain": [
       "<Figure size 640x480 with 2 Axes>"
      ]
     },
     "metadata": {},
     "output_type": "display_data"
    }
   ],
   "source": [
    "sns.heatmap(confusion_matrix(y_test,y_pred_knn),annot=True,fmt='0g')\n",
    "plt.title('KNN Model',fontsize=20,pad=10)\n",
    "plt.xlabel('Predicted Value',fontsize=15)\n",
    "plt.ylabel('Actual Value',fontsize=15)\n",
    "plt.show()"
   ]
  },
  {
   "cell_type": "code",
   "execution_count": null,
   "id": "e8a0462e-83a4-4be2-a53f-8cad47c0edd7",
   "metadata": {},
   "outputs": [],
   "source": []
  },
  {
   "cell_type": "markdown",
   "id": "5c638938-608d-42cb-a35a-378cd32b6e4b",
   "metadata": {},
   "source": [
    "## Prediction using Support Vector Machine :"
   ]
  },
  {
   "cell_type": "code",
   "execution_count": 129,
   "id": "a7e559ff-effb-4662-b569-7dd6e906f45b",
   "metadata": {},
   "outputs": [
    {
     "name": "stdout",
     "output_type": "stream",
     "text": [
      "total time taken to run the cell is: 655.0\n"
     ]
    }
   ],
   "source": [
    "start_time = time.time()\n",
    "\n",
    "svc_model = SVC()\n",
    "svc_model = svc_model.fit(x_train,y_train)\n",
    "svc_model\n",
    "\n",
    "end_time = time.time()\n",
    "total_time_svc = end_time - start_time\n",
    "print(f'total time taken to run the cell is: {round(total_time_svc,2)}')\n",
    "\n",
    "notification.notify(\n",
    "\t\t\ttitle = \"CELL EXECUTED\",\n",
    "\t\t\tmessage=\" SVC_model executed Successfully !!\" ,\t\n",
    "\t\t\ttimeout=2)"
   ]
  },
  {
   "cell_type": "code",
   "execution_count": 130,
   "id": "f547ef13-24e5-4949-86be-01b7fb5e6b57",
   "metadata": {},
   "outputs": [
    {
     "data": {
      "text/plain": [
       "array([1, 1, 1, ..., 0, 1, 1], dtype=int64)"
      ]
     },
     "execution_count": 130,
     "metadata": {},
     "output_type": "execute_result"
    }
   ],
   "source": [
    "y_pred_svc = svc_model.predict(x_test)\n",
    "y_pred_svc"
   ]
  },
  {
   "cell_type": "code",
   "execution_count": 131,
   "id": "c30df942-d7e6-41ce-a063-5b923cd56227",
   "metadata": {},
   "outputs": [
    {
     "name": "stdout",
     "output_type": "stream",
     "text": [
      "Actual Score= 98.03 %\n"
     ]
    }
   ],
   "source": [
    "print('Actual Score=',round((svc_model.score(x_train,y_train)*100),2),'%')"
   ]
  },
  {
   "cell_type": "code",
   "execution_count": 132,
   "id": "56faa965-c882-434c-acad-2a692f2d3157",
   "metadata": {},
   "outputs": [
    {
     "name": "stdout",
     "output_type": "stream",
     "text": [
      "Actual Score= 89.54 %\n"
     ]
    }
   ],
   "source": [
    "print('Actual Score=',round((svc_model.score(x_test,y_test)*100),2),'%')"
   ]
  },
  {
   "cell_type": "code",
   "execution_count": 133,
   "id": "5c2f8665-8f2e-427a-a828-57bfc156c972",
   "metadata": {},
   "outputs": [
    {
     "name": "stdout",
     "output_type": "stream",
     "text": [
      "[[6180  668]\n",
      " [ 616 4815]]\n"
     ]
    }
   ],
   "source": [
    "print (confusion_matrix(y_test,y_pred_svc))"
   ]
  },
  {
   "cell_type": "code",
   "execution_count": 134,
   "id": "2c72da48-f350-42fc-9f6e-036942aee732",
   "metadata": {},
   "outputs": [
    {
     "name": "stdout",
     "output_type": "stream",
     "text": [
      "              precision    recall  f1-score   support\n",
      "\n",
      "           0       0.91      0.90      0.91      6848\n",
      "           1       0.88      0.89      0.88      5431\n",
      "\n",
      "    accuracy                           0.90     12279\n",
      "   macro avg       0.89      0.89      0.89     12279\n",
      "weighted avg       0.90      0.90      0.90     12279\n",
      "\n"
     ]
    }
   ],
   "source": [
    "print (classification_report(y_test,y_pred_svc))"
   ]
  },
  {
   "cell_type": "code",
   "execution_count": 135,
   "id": "93ca0614-32ce-4ff1-8b18-a958de9099c2",
   "metadata": {},
   "outputs": [
    {
     "data": {
      "image/png": "[encoded data removed]",
      "text/plain": [
       "<Figure size 640x480 with 2 Axes>"
      ]
     },
     "metadata": {},
     "output_type": "display_data"
    }
   ],
   "source": [
    "sns.heatmap(confusion_matrix(y_test,y_pred_svc),annot=True,fmt='0g')\n",
    "plt.title('SVM Model',fontsize=20,pad=10)\n",
    "plt.xlabel('Predicted Value',fontsize=15)\n",
    "plt.ylabel('Actual Value',fontsize=15)\n",
    "plt.show()"
   ]
  },
  {
   "cell_type": "markdown",
   "id": "b4b784e6-ccae-4ced-82bd-a2c6efc5d86d",
   "metadata": {},
   "source": [
    "### Prediction through Gradient Boosting :"
   ]
  },
  {
   "cell_type": "code",
   "execution_count": 137,
   "id": "a590455c-2845-4052-9501-eb6cb6d14f2a",
   "metadata": {},
   "outputs": [],
   "source": [
    "# import time"
   ]
  },
  {
   "cell_type": "code",
   "execution_count": 138,
   "id": "6836f09f-53cd-4791-b97c-8d58442e4975",
   "metadata": {},
   "outputs": [],
   "source": [
    "gb_model = GradientBoostingClassifier(learning_rate=0.5,n_estimators=200,max_depth=5)"
   ]
  },
  {
   "cell_type": "code",
   "execution_count": 139,
   "id": "5ce2bc54-da96-407e-b057-bdfd5f17810e",
   "metadata": {},
   "outputs": [
    {
     "name": "stdout",
     "output_type": "stream",
     "text": [
      "total time taken to run the cell is: 1315.41\n"
     ]
    }
   ],
   "source": [
    "atart_time = time.time()\n",
    "\n",
    "gb_model = gb_model.fit(x_train,y_train)\n",
    "gb_model\n",
    "\n",
    "end_time = time.time()\n",
    "total_time_gb = end_time - start_time\n",
    "print(f'total time taken to run the cell is: {round(total_time_gb,2)}')\n",
    "\n",
    "notification.notify(\n",
    "\t\t\ttitle = \"CELL EXECUTED\",\n",
    "\t\t\tmessage=\" GB_model executed Successfully !!\" ,\t\n",
    "\t\t\ttimeout=2)"
   ]
  },
  {
   "cell_type": "code",
   "execution_count": 140,
   "id": "7559b106-fd2e-41b9-8bb3-c92be0df0313",
   "metadata": {},
   "outputs": [
    {
     "data": {
      "text/plain": [
       "array([1, 0, 1, ..., 0, 0, 1], dtype=int64)"
      ]
     },
     "execution_count": 140,
     "metadata": {},
     "output_type": "execute_result"
    }
   ],
   "source": [
    "y_pred_gb = gb_model.predict(x_test)\n",
    "y_pred_gb"
   ]
  },
  {
   "cell_type": "code",
   "execution_count": 141,
   "id": "b5c49059-11cf-494f-8241-fb8c31ee3019",
   "metadata": {},
   "outputs": [
    {
     "name": "stdout",
     "output_type": "stream",
     "text": [
      "Actual Score= 93.61 %\n"
     ]
    }
   ],
   "source": [
    "print('Actual Score=',round((gb_model.score(x_train,y_train)*100),2),'%')"
   ]
  },
  {
   "cell_type": "code",
   "execution_count": 142,
   "id": "6032f00f-eaa2-4eb7-83ad-189b72cf7a1d",
   "metadata": {},
   "outputs": [
    {
     "name": "stdout",
     "output_type": "stream",
     "text": [
      "Actual Score= 87.73 %\n"
     ]
    }
   ],
   "source": [
    "print('Actual Score=',round((gb_model.score(x_test,y_test)*100),2),'%')"
   ]
  },
  {
   "cell_type": "code",
   "execution_count": 143,
   "id": "b0de6cc0-4f94-419c-9341-e85ef2120dcb",
   "metadata": {},
   "outputs": [
    {
     "name": "stdout",
     "output_type": "stream",
     "text": [
      "[[6061  787]\n",
      " [ 720 4711]]\n"
     ]
    }
   ],
   "source": [
    "print (confusion_matrix(y_test,y_pred_gb))"
   ]
  },
  {
   "cell_type": "code",
   "execution_count": 144,
   "id": "d02de987-779d-4ba8-8078-e7be9b18a48b",
   "metadata": {},
   "outputs": [
    {
     "name": "stdout",
     "output_type": "stream",
     "text": [
      "              precision    recall  f1-score   support\n",
      "\n",
      "           0       0.89      0.89      0.89      6848\n",
      "           1       0.86      0.87      0.86      5431\n",
      "\n",
      "    accuracy                           0.88     12279\n",
      "   macro avg       0.88      0.88      0.88     12279\n",
      "weighted avg       0.88      0.88      0.88     12279\n",
      "\n"
     ]
    }
   ],
   "source": [
    "print (classification_report(y_test,y_pred_gb))"
   ]
  },
  {
   "cell_type": "code",
   "execution_count": 145,
   "id": "262cb8ef-d686-4ba6-9f6e-c8911b229ca3",
   "metadata": {},
   "outputs": [
    {
     "data": {
      "image/png": "[encoded data removed]",
      "text/plain": [
       "<Figure size 640x480 with 2 Axes>"
      ]
     },
     "metadata": {},
     "output_type": "display_data"
    }
   ],
   "source": [
    "sns.heatmap(confusion_matrix(y_test,y_pred_gb),annot=True,fmt='0g')\n",
    "plt.title('GB Model',fontsize=20,pad=10)\n",
    "plt.xlabel('Predicted Value',fontsize=15)\n",
    "plt.ylabel('Actual Value',fontsize=15)\n",
    "plt.show()"
   ]
  },
  {
   "cell_type": "markdown",
   "id": "1fac970d-bf09-4737-acdf-247f413a92e7",
   "metadata": {},
   "source": [
    "### Prediction using AdaBoost :"
   ]
  },
  {
   "cell_type": "code",
   "execution_count": 147,
   "id": "4d9f4a8b-bfe0-4232-9462-5599220c3768",
   "metadata": {},
   "outputs": [],
   "source": [
    "# from sklearn.ensemble import AdaBoostClassifier"
   ]
  },
  {
   "cell_type": "code",
   "execution_count": 148,
   "id": "1b82f652-b896-475d-a442-1ad5f1be728d",
   "metadata": {},
   "outputs": [],
   "source": [
    "ad_model = AdaBoostClassifier(algorithm='SAMME',learning_rate=0.6,n_estimators=500)"
   ]
  },
  {
   "cell_type": "code",
   "execution_count": 149,
   "id": "62e890fc-c4a5-48aa-9ef0-83c5854e865d",
   "metadata": {},
   "outputs": [
    {
     "name": "stdout",
     "output_type": "stream",
     "text": [
      "total time taken to run the cell is: 685.24\n"
     ]
    }
   ],
   "source": [
    "start_time = time.time()\n",
    "\n",
    "ad_model = ad_model.fit(x_train,y_train)\n",
    "ad_model\n",
    "\n",
    "end_time = time.time()\n",
    "total_time_ad = end_time - start_time\n",
    "print(f'total time taken to run the cell is: {round(total_time_ad,2)}')\n",
    "\n",
    "notification.notify(\n",
    "\t\t\ttitle = \"CELL EXECUTED\",\n",
    "\t\t\tmessage=\" AD_model executed Successfully !!\" ,\t\n",
    "\t\t\ttimeout=2)"
   ]
  },
  {
   "cell_type": "code",
   "execution_count": 150,
   "id": "06c8d390-38ef-480f-8122-19b91bca2fd9",
   "metadata": {},
   "outputs": [
    {
     "data": {
      "text/plain": [
       "array([1, 0, 1, ..., 0, 0, 1], dtype=int64)"
      ]
     },
     "execution_count": 150,
     "metadata": {},
     "output_type": "execute_result"
    }
   ],
   "source": [
    "y_pred_ad = ad_model.predict(x_test)\n",
    "y_pred_ad"
   ]
  },
  {
   "cell_type": "code",
   "execution_count": 151,
   "id": "7f7a1a18-8cdd-4420-9093-f12bed17b969",
   "metadata": {},
   "outputs": [
    {
     "name": "stdout",
     "output_type": "stream",
     "text": [
      "Actual Score= 75.44 %\n"
     ]
    }
   ],
   "source": [
    "print('Actual Score=',round((ad_model.score(x_train,y_train)*100),2),'%')"
   ]
  },
  {
   "cell_type": "code",
   "execution_count": 152,
   "id": "ed39f616-8db4-4e41-8166-1aee8377b80b",
   "metadata": {},
   "outputs": [
    {
     "name": "stdout",
     "output_type": "stream",
     "text": [
      "Actual Score= 75.15 %\n"
     ]
    }
   ],
   "source": [
    "print('Actual Score=',round((ad_model.score(x_test,y_test)*100),2),'%')"
   ]
  },
  {
   "cell_type": "code",
   "execution_count": 153,
   "id": "fc488b95-2715-4101-bd65-ca4d5bc498f3",
   "metadata": {},
   "outputs": [
    {
     "name": "stdout",
     "output_type": "stream",
     "text": [
      "[[6600  248]\n",
      " [2803 2628]]\n"
     ]
    }
   ],
   "source": [
    "print (confusion_matrix(y_test,y_pred_ad))"
   ]
  },
  {
   "cell_type": "code",
   "execution_count": 154,
   "id": "00425371-bded-4915-b953-c3bca08361a7",
   "metadata": {},
   "outputs": [
    {
     "name": "stdout",
     "output_type": "stream",
     "text": [
      "              precision    recall  f1-score   support\n",
      "\n",
      "           0       0.70      0.96      0.81      6848\n",
      "           1       0.91      0.48      0.63      5431\n",
      "\n",
      "    accuracy                           0.75     12279\n",
      "   macro avg       0.81      0.72      0.72     12279\n",
      "weighted avg       0.80      0.75      0.73     12279\n",
      "\n"
     ]
    }
   ],
   "source": [
    "print (classification_report(y_test,y_pred_ad))"
   ]
  },
  {
   "cell_type": "code",
   "execution_count": 155,
   "id": "dc818e9d-3833-44e6-be1c-a8ee76eb0c0f",
   "metadata": {},
   "outputs": [
    {
     "data": {
      "image/png": "[encoded data removed]",
      "text/plain": [
       "<Figure size 640x480 with 2 Axes>"
      ]
     },
     "metadata": {},
     "output_type": "display_data"
    }
   ],
   "source": [
    "sns.heatmap(confusion_matrix(y_test,y_pred_ad),annot=True,fmt='0g')\n",
    "plt.title('AdaBoost Model',fontsize=20,pad=10)\n",
    "plt.xlabel('Predicted Value',fontsize=15)\n",
    "plt.ylabel('Actual Value',fontsize=15)\n",
    "plt.show()"
   ]
  },
  {
   "cell_type": "markdown",
   "id": "e3eb1ff3-f99f-4a55-9938-f8cddbe59a15",
   "metadata": {},
   "source": [
    "### Prediction using XGBoostClassifier :"
   ]
  },
  {
   "cell_type": "code",
   "execution_count": 157,
   "id": "39387bac-bdef-4afe-8a7d-3bb0fc1a81c6",
   "metadata": {},
   "outputs": [
    {
     "name": "stdout",
     "output_type": "stream",
     "text": [
      "Requirement already satisfied: xgboost in c:\\users\\pc\\anaconda3\\lib\\site-packages (2.1.3)\n",
      "Requirement already satisfied: numpy in c:\\users\\pc\\anaconda3\\lib\\site-packages (from xgboost) (1.26.4)\n",
      "Requirement already satisfied: scipy in c:\\users\\pc\\anaconda3\\lib\\site-packages (from xgboost) (1.13.1)\n",
      "Note: you may need to restart the kernel to use updated packages.\n"
     ]
    }
   ],
   "source": [
    "pip install xgboost"
   ]
  },
  {
   "cell_type": "code",
   "execution_count": 158,
   "id": "0621f3f1-233b-4f72-80da-9b2adcb9cdac",
   "metadata": {},
   "outputs": [],
   "source": [
    "import xgboost as xgb"
   ]
  },
  {
   "cell_type": "code",
   "execution_count": 159,
   "id": "0c74e100-3b0b-49bb-976c-ab60a102bce8",
   "metadata": {},
   "outputs": [],
   "source": [
    "xgb_model = xgb.XGBClassifier(n_estimators=500,max_depth=5,learning_rate=0.5)"
   ]
  },
  {
   "cell_type": "code",
   "execution_count": 160,
   "id": "ae5d2ebe-70b3-4de8-8a69-4d481a76bd3d",
   "metadata": {},
   "outputs": [
    {
     "name": "stdout",
     "output_type": "stream",
     "text": [
      "total time taken to run the cell is: 46.12\n"
     ]
    }
   ],
   "source": [
    "start_time = time.time()\n",
    "\n",
    "xgb_model = xgb_model.fit(x_train,y_train)\n",
    "xgb_model\n",
    "\n",
    "end_time = time.time()\n",
    "total_time_xgb = end_time - start_time\n",
    "print(f'total time taken to run the cell is: {round(total_time_xgb,2)}')\n",
    "\n",
    "notification.notify(\n",
    "\t\t\ttitle = \"CELL EXECUTED\",\n",
    "\t\t\tmessage=\" XGB_model executed Successfully !!\" ,\t\n",
    "\t\t\ttimeout=2)"
   ]
  },
  {
   "cell_type": "code",
   "execution_count": 161,
   "id": "108e2e90-0ca5-4954-ad52-c0467f80694c",
   "metadata": {},
   "outputs": [
    {
     "data": {
      "text/plain": [
       "array([1, 1, 1, ..., 0, 0, 1])"
      ]
     },
     "execution_count": 161,
     "metadata": {},
     "output_type": "execute_result"
    }
   ],
   "source": [
    "y_pred_xgb = xgb_model.predict(x_test)\n",
    "y_pred_xgb"
   ]
  },
  {
   "cell_type": "code",
   "execution_count": 162,
   "id": "d8d40f00-a192-4c51-b8e5-88da36f097fc",
   "metadata": {},
   "outputs": [
    {
     "name": "stdout",
     "output_type": "stream",
     "text": [
      "Actual Score= 94.63 %\n"
     ]
    }
   ],
   "source": [
    "print('Actual Score=',round((xgb_model.score(x_train,y_train)*100),2),'%')"
   ]
  },
  {
   "cell_type": "code",
   "execution_count": 163,
   "id": "f88c35f6-2e7e-4563-b677-9919b1980fb1",
   "metadata": {},
   "outputs": [
    {
     "name": "stdout",
     "output_type": "stream",
     "text": [
      "Actual Score= 89.02 %\n"
     ]
    }
   ],
   "source": [
    "print('Actual Score=',round((xgb_model.score(x_test,y_test)*100),2),'%')"
   ]
  },
  {
   "cell_type": "code",
   "execution_count": 164,
   "id": "be59b6e4-3104-4a92-bc8c-56746339ab33",
   "metadata": {},
   "outputs": [
    {
     "name": "stdout",
     "output_type": "stream",
     "text": [
      "[[6149  699]\n",
      " [ 649 4782]]\n"
     ]
    }
   ],
   "source": [
    "print (confusion_matrix(y_test,y_pred_xgb))"
   ]
  },
  {
   "cell_type": "code",
   "execution_count": 165,
   "id": "b7f4a123-dffe-4e7e-9290-73e4ca0dad81",
   "metadata": {},
   "outputs": [
    {
     "name": "stdout",
     "output_type": "stream",
     "text": [
      "              precision    recall  f1-score   support\n",
      "\n",
      "           0       0.90      0.90      0.90      6848\n",
      "           1       0.87      0.88      0.88      5431\n",
      "\n",
      "    accuracy                           0.89     12279\n",
      "   macro avg       0.89      0.89      0.89     12279\n",
      "weighted avg       0.89      0.89      0.89     12279\n",
      "\n"
     ]
    }
   ],
   "source": [
    "print (classification_report(y_test,y_pred_xgb))"
   ]
  },
  {
   "cell_type": "code",
   "execution_count": 166,
   "id": "1bb41683-537c-4a79-b8e8-a2041f95a21c",
   "metadata": {},
   "outputs": [
    {
     "data": {
      "image/png": "[encoded data removed]",
      "text/plain": [
       "<Figure size 640x480 with 2 Axes>"
      ]
     },
     "metadata": {},
     "output_type": "display_data"
    }
   ],
   "source": [
    "sns.heatmap(confusion_matrix(y_test,y_pred_xgb),annot=True,fmt='0g')\n",
    "plt.title('XGBoost Model',fontsize=20,pad=10)\n",
    "plt.xlabel('Predicted Value',fontsize=15)\n",
    "plt.ylabel('Actual Value',fontsize=15)\n",
    "plt.show()"
   ]
  },
  {
   "cell_type": "markdown",
   "id": "bfd6ce9e-265e-4c1d-9b0b-9e575e79bb4a",
   "metadata": {},
   "source": [
    "# FUNCTION FOR MULTIPLE MODEL CREATION :"
   ]
  },
  {
   "cell_type": "code",
   "execution_count": 168,
   "id": "6a88e878-9c81-46d9-9d13-251c8c221997",
   "metadata": {},
   "outputs": [
    {
     "name": "stdout",
     "output_type": "stream",
     "text": [
      "Model Logistic_Regression executed successfully!!\n",
      "\n",
      "Model DecisionTreeClassifier executed successfully!!\n",
      "\n",
      "Model RandomForestClassier executed successfully!!\n",
      "\n",
      "Model K-NearestNeighbors executed successfully!!\n",
      "\n",
      "Model SupportVectorMachine executed successfully!!\n",
      "\n",
      "Model GradientBoostingClassifier executed successfully!!\n",
      "\n",
      "Model AdaBoostClassifier executed successfully!!\n",
      "\n",
      "Model XGBClassifier executed successfully!!\n",
      "\n",
      "All Models executed successfully!!\n"
     ]
    }
   ],
   "source": [
    "all_model_names = ['Logistic_Regression','DecisionTreeClassifier','RandomForestClassier','K-NearestNeighbors','SupportVectorMachine',\n",
    "                   'GradientBoostingClassifier','AdaBoostClassifier','XGBClassifier']\n",
    "all_model_objects = [lr_model , dt_model , rf_model , knn_model , svc_model , gb_model , ad_model , xgb_model]\n",
    "all_y_pred = []\n",
    "all_test_score = []\n",
    "all_type_1_error = []\n",
    "all_type_2_error = []\n",
    "\n",
    "\n",
    "for i,j in zip(all_model_objects,all_model_names):\n",
    "        all_test_score.append(round(i.score(x_test,y_test)*100,2))\n",
    "        temp_y_pred = i.predict(x_test)\n",
    "        all_y_pred.append(temp_y_pred)\n",
    "        cn_matrix = confusion_matrix(y_test,temp_y_pred).flatten()\n",
    "        t1,t2 = cn_matrix[1] , cn_matrix[2]\n",
    "        all_type_1_error.append(t1)\n",
    "        all_type_2_error.append(t2)\n",
    "        print(f'Model {j} executed successfully!!', end='\\n'*2)\n",
    "\n",
    "print('All Models executed successfully!!')\n",
    "\n",
    "\n",
    "notification.notify(\n",
    "\t\t\ttitle = \"CELL EXECUTED\",\n",
    "\t\t\tmessage=\" ALL_models executed Successfully !!\" ,\t\n",
    "\t\t\ttimeout=2)\n",
    "    "
   ]
  },
  {
   "cell_type": "code",
   "execution_count": 169,
   "id": "6c3f8258-c041-4236-a8b8-acccd501f1a3",
   "metadata": {},
   "outputs": [],
   "source": [
    "total_times = [total_time_lr , total_time_dt , total_time_rf , total_time_knn , total_time_svc , total_time_gb , total_time_ad , total_time_xgb]\n"
   ]
  },
  {
   "cell_type": "markdown",
   "id": "3ae6f820-9a5e-4849-bdbb-e7ce268e4221",
   "metadata": {},
   "source": [
    "# DATAFRAME OF RELEVANT INFORMATION :"
   ]
  },
  {
   "cell_type": "code",
   "execution_count": 171,
   "id": "425cd462-934f-4057-bba7-13e09c9bd6e8",
   "metadata": {},
   "outputs": [],
   "source": [
    "models_df = pd.DataFrame({'Model_name':all_model_names,\n",
    "                        'Test_score(in %)':all_test_score,\n",
    "                        'Type_1_error':all_type_1_error,\n",
    "                        'Type_2_error':all_type_2_error,\n",
    "                        'Time_taken(in sec)':total_times})\n",
    "models_df\n",
    "\n",
    "notification.notify(\n",
    "\t\t\ttitle = \"CELL EXECUTED\",\n",
    "\t\t\tmessage=\" DataFrame loaded Successfully !!\" ,\t\n",
    "\t\t\ttimeout=2)"
   ]
  },
  {
   "cell_type": "code",
   "execution_count": 172,
   "id": "79aa9d46-9322-4ab8-8ba8-c8489ab67bdf",
   "metadata": {},
   "outputs": [
    {
     "data": {
      "text/html": [
       "<div>\n",
       "<style scoped>\n",
       "    .dataframe tbody tr th:only-of-type {\n",
       "        vertical-align: middle;\n",
       "    }\n",
       "\n",
       "    .dataframe tbody tr th {\n",
       "        vertical-align: top;\n",
       "    }\n",
       "\n",
       "    .dataframe thead th {\n",
       "        text-align: right;\n",
       "    }\n",
       "</style>\n",
       "<table border=\"1\" class=\"dataframe\">\n",
       "  <thead>\n",
       "    <tr style=\"text-align: right;\">\n",
       "      <th></th>\n",
       "      <th>Model_name</th>\n",
       "      <th>Test_score(in %)</th>\n",
       "      <th>Type_1_error</th>\n",
       "      <th>Type_2_error</th>\n",
       "      <th>Time_taken(in sec)</th>\n",
       "    </tr>\n",
       "  </thead>\n",
       "  <tbody>\n",
       "    <tr>\n",
       "      <th>0</th>\n",
       "      <td>SupportVectorMachine</td>\n",
       "      <td>89.54</td>\n",
       "      <td>668</td>\n",
       "      <td>616</td>\n",
       "      <td>654.995818</td>\n",
       "    </tr>\n",
       "    <tr>\n",
       "      <th>1</th>\n",
       "      <td>XGBClassifier</td>\n",
       "      <td>89.02</td>\n",
       "      <td>699</td>\n",
       "      <td>649</td>\n",
       "      <td>46.116696</td>\n",
       "    </tr>\n",
       "    <tr>\n",
       "      <th>2</th>\n",
       "      <td>Logistic_Regression</td>\n",
       "      <td>88.83</td>\n",
       "      <td>685</td>\n",
       "      <td>687</td>\n",
       "      <td>0.664101</td>\n",
       "    </tr>\n",
       "    <tr>\n",
       "      <th>3</th>\n",
       "      <td>RandomForestClassier</td>\n",
       "      <td>88.48</td>\n",
       "      <td>698</td>\n",
       "      <td>716</td>\n",
       "      <td>285.335671</td>\n",
       "    </tr>\n",
       "    <tr>\n",
       "      <th>4</th>\n",
       "      <td>GradientBoostingClassifier</td>\n",
       "      <td>87.73</td>\n",
       "      <td>787</td>\n",
       "      <td>720</td>\n",
       "      <td>1315.412131</td>\n",
       "    </tr>\n",
       "    <tr>\n",
       "      <th>5</th>\n",
       "      <td>DecisionTreeClassifier</td>\n",
       "      <td>83.44</td>\n",
       "      <td>933</td>\n",
       "      <td>1101</td>\n",
       "      <td>26.268446</td>\n",
       "    </tr>\n",
       "    <tr>\n",
       "      <th>6</th>\n",
       "      <td>AdaBoostClassifier</td>\n",
       "      <td>75.15</td>\n",
       "      <td>248</td>\n",
       "      <td>2803</td>\n",
       "      <td>685.242262</td>\n",
       "    </tr>\n",
       "    <tr>\n",
       "      <th>7</th>\n",
       "      <td>K-NearestNeighbors</td>\n",
       "      <td>47.72</td>\n",
       "      <td>6400</td>\n",
       "      <td>20</td>\n",
       "      <td>0.015438</td>\n",
       "    </tr>\n",
       "  </tbody>\n",
       "</table>\n",
       "</div>"
      ],
      "text/plain": [
       "                   Model_name  Test_score(in %)  Type_1_error  Type_2_error  \\\n",
       "0        SupportVectorMachine             89.54           668           616   \n",
       "1               XGBClassifier             89.02           699           649   \n",
       "2         Logistic_Regression             88.83           685           687   \n",
       "3        RandomForestClassier             88.48           698           716   \n",
       "4  GradientBoostingClassifier             87.73           787           720   \n",
       "5      DecisionTreeClassifier             83.44           933          1101   \n",
       "6          AdaBoostClassifier             75.15           248          2803   \n",
       "7          K-NearestNeighbors             47.72          6400            20   \n",
       "\n",
       "   Time_taken(in sec)  \n",
       "0          654.995818  \n",
       "1           46.116696  \n",
       "2            0.664101  \n",
       "3          285.335671  \n",
       "4         1315.412131  \n",
       "5           26.268446  \n",
       "6          685.242262  \n",
       "7            0.015438  "
      ]
     },
     "execution_count": 172,
     "metadata": {},
     "output_type": "execute_result"
    }
   ],
   "source": [
    "models_df = models_df.sort_values(by=['Test_score(in %)','Type_1_error'],ascending=False).reset_index(drop=True)\n",
    "models_df"
   ]
  },
  {
   "cell_type": "code",
   "execution_count": 173,
   "id": "9248a858-98fd-4f30-b023-1cbba50e52c5",
   "metadata": {},
   "outputs": [],
   "source": [
    "# models_df.iloc[0:3,2]                     (for rows and columns)"
   ]
  },
  {
   "cell_type": "code",
   "execution_count": 174,
   "id": "0498b063-a78b-44ce-8e81-73a507d1c1e0",
   "metadata": {},
   "outputs": [],
   "source": [
    "# models_df.loc[3:5]                     (only for rows)"
   ]
  },
  {
   "cell_type": "code",
   "execution_count": 175,
   "id": "134223c3-11d5-4707-aeb0-883de8d1676a",
   "metadata": {},
   "outputs": [
    {
     "data": {
      "text/plain": [
       "array([1, 'time christian group sue amazon splc design hate group'],\n",
       "      dtype=object)"
      ]
     },
     "execution_count": 175,
     "metadata": {},
     "output_type": "execute_result"
    }
   ],
   "source": [
    "df3.iloc[4].values"
   ]
  },
  {
   "cell_type": "code",
   "execution_count": 176,
   "id": "16086c44-4f15-4dc6-bdeb-15ca7fa66e36",
   "metadata": {},
   "outputs": [
    {
     "data": {
      "text/plain": [
       "label                                                    0\n",
       "new_title    thirti one bodi recov migrant boat sink libya\n",
       "Name: 51334, dtype: object"
      ]
     },
     "execution_count": 176,
     "metadata": {},
     "output_type": "execute_result"
    }
   ],
   "source": [
    "df3.iloc[51334]"
   ]
  },
  {
   "cell_type": "markdown",
   "id": "d77e16fa-fccd-4349-ae7f-e5f56d61a058",
   "metadata": {},
   "source": [
    "# SAVING THE BEST MODEL AND VECTOR FOR FUTURE USE :"
   ]
  },
  {
   "cell_type": "code",
   "execution_count": 178,
   "id": "4bfc0f6c-8816-492a-af33-4542937f01e7",
   "metadata": {},
   "outputs": [],
   "source": [
    "import pickle"
   ]
  },
  {
   "cell_type": "code",
   "execution_count": 179,
   "id": "93c07e43-f432-42d2-901c-684b97f02946",
   "metadata": {},
   "outputs": [],
   "source": [
    "with open('best_model.pkl','wb') as f:\n",
    "    pickle.dump(lr_model,f)"
   ]
  },
  {
   "cell_type": "code",
   "execution_count": 180,
   "id": "6fcc9946-1968-4cd0-aa62-92606366ed0b",
   "metadata": {},
   "outputs": [],
   "source": [
    "with open('vector.pkl','wb') as f:\n",
    "    pickle.dump(vector,f)"
   ]
  },
  {
   "cell_type": "code",
   "execution_count": 181,
   "id": "5f09762e-75cd-47bd-aa71-ce22c4a39081",
   "metadata": {},
   "outputs": [],
   "source": [
    "with open('vector.pkl','rb') as f:\n",
    "    my_vector = pickle.load(f)"
   ]
  },
  {
   "cell_type": "code",
   "execution_count": 182,
   "id": "d2413e85-b671-4743-90c3-a19ccec373c1",
   "metadata": {},
   "outputs": [],
   "source": [
    "with open('best_model.pkl','rb') as f:\n",
    "    my_model = pickle.load(f)"
   ]
  },
  {
   "cell_type": "markdown",
   "id": "8ba16ae1-7860-4613-94fb-5638aa0d0e1d",
   "metadata": {},
   "source": [
    "### PREDICTION USING SAVED BEST MODEL AND VECTOR :"
   ]
  },
  {
   "cell_type": "code",
   "execution_count": 184,
   "id": "16b7a398-14d2-4bcc-bbcb-180d44a79733",
   "metadata": {},
   "outputs": [
    {
     "data": {
      "text/plain": [
       "0"
      ]
     },
     "execution_count": 184,
     "metadata": {},
     "output_type": "execute_result"
    }
   ],
   "source": [
    "result_1 = my_vector.transform(['thirti one bodi recov migrant boat sink libya'])\n",
    "final = my_model.predict(result_1)[0]\n",
    "final"
   ]
  },
  {
   "cell_type": "code",
   "execution_count": 185,
   "id": "6805a8c9-4fd9-47cd-8813-4ef0d9727e2f",
   "metadata": {},
   "outputs": [
    {
     "name": "stdin",
     "output_type": "stream",
     "text": [
      "enter the news:  thirti one bodi recov migrant boat sink libya\n"
     ]
    },
    {
     "name": "stdout",
     "output_type": "stream",
     "text": [
      "Fake News\n"
     ]
    }
   ],
   "source": [
    "news = input(\"enter the news: \")\n",
    "second = my_vector.transform([news])\n",
    "final = my_model.predict(second)[0]\n",
    "print('Fake News') if final==0 else print('Real News')"
   ]
  },
  {
   "cell_type": "code",
   "execution_count": 186,
   "id": "85cd781b-bfa5-44b2-ba21-45290965eb38",
   "metadata": {},
   "outputs": [
    {
     "name": "stdout",
     "output_type": "stream",
     "text": [
      "Fake News\n"
     ]
    }
   ],
   "source": [
    "\n",
    "second = my_vector.transform([df3[df3['label']==0]['new_title'].sample().values[0]])\n",
    "final = my_model.predict(second)[0]\n",
    "print('Fake News') if final==0 else print('Real News')"
   ]
  },
  {
   "cell_type": "code",
   "execution_count": 187,
   "id": "095fdb37-b872-47ef-81dc-5bebfd709fc3",
   "metadata": {},
   "outputs": [
    {
     "data": {
      "text/plain": [
       "'suprem court declar sex coupl fundament right marri'"
      ]
     },
     "execution_count": 187,
     "metadata": {},
     "output_type": "execute_result"
    }
   ],
   "source": [
    "df3[df3['label']==0]['new_title'].sample().values[0]"
   ]
  },
  {
   "cell_type": "code",
   "execution_count": 188,
   "id": "c089f3dc-a53e-458e-87f6-9c333d098701",
   "metadata": {},
   "outputs": [
    {
     "data": {
      "text/plain": [
       "'comment savior post modern fairi tale glenn'"
      ]
     },
     "execution_count": 188,
     "metadata": {},
     "output_type": "execute_result"
    }
   ],
   "source": [
    "df3[df3['label']==1]['new_title'].sample().values[0]"
   ]
  },
  {
   "cell_type": "code",
   "execution_count": 189,
   "id": "3ba8b571-335a-4c1d-a77d-b9971b5ac0ec",
   "metadata": {},
   "outputs": [
    {
     "name": "stdout",
     "output_type": "stream",
     "text": [
      "Real News\n"
     ]
    }
   ],
   "source": [
    "\n",
    "second = my_vector.transform([df3[df3['label']==1]['new_title'].sample().values[0]])\n",
    "final = my_model.predict(second)[0]\n",
    "print('Fake News') if final==0 else print('Real News')"
   ]
  },
  {
   "cell_type": "code",
   "execution_count": 190,
   "id": "3884a059-9899-46e7-81ac-8df2e3f80690",
   "metadata": {},
   "outputs": [
    {
     "name": "stdout",
     "output_type": "stream",
     "text": [
      "Fake News\n"
     ]
    }
   ],
   "source": [
    "\n",
    "second = my_vector.transform([df3['new_title'].sample().values[0]])\n",
    "final = my_model.predict(second)[0]\n",
    "print('Fake News') if final==0 else print('Real News')"
   ]
  },
  {
   "cell_type": "markdown",
   "id": "ef3f7d21-8413-4739-a08b-832b2a422ed0",
   "metadata": {},
   "source": [
    "# DEPLOY A WEBSITE :"
   ]
  },
  {
   "cell_type": "code",
   "execution_count": 192,
   "id": "df0fd70e-6854-4d5e-8bbe-91f7f4454d0c",
   "metadata": {},
   "outputs": [],
   "source": [
    "# import streamlit as st\n",
    "# import pickle\n",
    "\n",
    "# with open('vector.pkl','rb') as f:\n",
    "#     my_vector = pickle.load(f)\n",
    "\n",
    "# with open('best_model.pkl','rb') as f:\n",
    "#     my_model = pickle.load(f)\n",
    "\n",
    "# st.title('FAKE NEWS DETECTION')\n",
    "# st.header('ENTER THE NEWS BELOW TO CHECK WHETHER IT IS FAKE OR REAL')\n",
    "\n",
    "# news = st.text_input('Enter the news: ')\n",
    "# if st.button('SUBMIT'):\n",
    "#     if news is not None:\n",
    "#         vector_result = my_vector.transform([news])\n",
    "#         final_result = my_model.predict(vector_result)[0]\n",
    "#         if final_result==0:\n",
    "#             st.write('FAKE NEWS')\n",
    "#         else:\n",
    "#             st.write('REAL NEWS')\n",
    "\n"
   ]
  },
  {
   "cell_type": "markdown",
   "id": "ae6781b9-d24f-4b93-a0f6-6a6c5359bf28",
   "metadata": {},
   "source": [
    "#                            THANK YOU !!!"
   ]
  },
  {
   "cell_type": "code",
   "execution_count": null,
   "id": "93ccc241-e688-47f7-a0be-0e1b08482d74",
   "metadata": {},
   "outputs": [],
   "source": []
  }
 ],
 "metadata": {
  "kernelspec": {
   "display_name": "Python 3 (ipykernel)",
   "language": "python",
   "name": "python3"
  },
  "language_info": {
   "codemirror_mode": {
    "name": "ipython",
    "version": 3
   },
   "file_extension": ".py",
   "mimetype": "text/x-python",
   "name": "python",
   "nbconvert_exporter": "python",
   "pygments_lexer": "ipython3",
   "version": "3.12.4"
  }
 },
 "nbformat": 4,
 "nbformat_minor": 5
}
